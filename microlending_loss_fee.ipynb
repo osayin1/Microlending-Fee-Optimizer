{
 "metadata": {
  "name": "",
  "signature": "sha256:649edfa89a814c8db86378e2fd9218de243ad819d378e85dcea3d0ae015d7d16"
 },
 "nbformat": 3,
 "nbformat_minor": 0,
 "worksheets": [
  {
   "cells": [
    {
     "cell_type": "code",
     "collapsed": false,
     "input": [
      "#%reset"
     ],
     "language": "python",
     "metadata": {},
     "outputs": [],
     "prompt_number": 10
    },
    {
     "cell_type": "code",
     "collapsed": false,
     "input": [
      "import os \n",
      "import MySQLdb as mdb\n",
      "import sys\n",
      "import ipdb\n",
      "import pickle\n",
      "import pandas as pd\n",
      "import numpy as np\n",
      "import matplotlib.pyplot as plt\n",
      "import math\n",
      "import datetime\n",
      "import seaborn as sns"
     ],
     "language": "python",
     "metadata": {},
     "outputs": [],
     "prompt_number": 11
    },
    {
     "cell_type": "code",
     "collapsed": false,
     "input": [
      "# Open the file contaning credentials to the database\n",
      "fileObject = open('microlending_database_credentials','r')  \n",
      "db_cred = pickle.load(fileObject) "
     ],
     "language": "python",
     "metadata": {},
     "outputs": [],
     "prompt_number": 12
    },
    {
     "cell_type": "code",
     "collapsed": false,
     "input": [
      "con = mdb.connect(host=db_cred['host'], user=db_cred['user'], passwd=db_cred['passwd'], db=db_cred['database'])"
     ],
     "language": "python",
     "metadata": {},
     "outputs": [],
     "prompt_number": 168
    },
    {
     "cell_type": "code",
     "collapsed": false,
     "input": [
      "with con:\n",
      "    df_loans            = pd.read_sql('select * from loans;', con=con)\n",
      "    #df_loans_all        = pd.read_sql('select * from loans;', con=con)\n",
      "    #df_transactions     = pd.read_sql('select * from transactions;', con=con) \n",
      "    #df_installments     = pd.read_sql('select * from installments',con=con)\n",
      "    #df_loan_categ_trans = pd.read_sql('select * from transactions;', con=con) \n",
      "    df_install_loan_info = pd.read_sql('select * from installments_loan_info',con=con)"
     ],
     "language": "python",
     "metadata": {},
     "outputs": [],
     "prompt_number": 16
    },
    {
     "cell_type": "code",
     "collapsed": false,
     "input": [
      "# Remove all data prior to Jan 1, 2014. (Major difference in payment behavior..)\n",
      "df_loans = df_loans.loc[df_loans.disbursed_at > pd.to_datetime('2013-12-31')]\n",
      "df_install_loan_info = df_install_loan_info.loc[df_install_loan_info.loan_id.isin(df_loans.id)]"
     ],
     "language": "python",
     "metadata": {},
     "outputs": [],
     "prompt_number": 17
    },
    {
     "cell_type": "heading",
     "level": 3,
     "metadata": {},
     "source": [
      "Subset loans and installment data for zero interest and 'almost' zero interest:"
     ]
    },
    {
     "cell_type": "code",
     "collapsed": false,
     "input": [
      "df_loans_noInterest      = df_loans[df_loans.lender_interest_rate==0.0]\n",
      "df_loans_noInterest_ver2 = df_loans[df_loans.lender_interest_rate<5.0]\n",
      "\n",
      "df_install_loan_noInterest      = df_install_loan_info[df_install_loan_info.loan_id.isin(df_loans_noInterest.id)]\n",
      "df_install_loan_noInterest_ver2 = df_install_loan_info[df_install_loan_info.loan_id.isin(df_loans_noInterest_ver2.id)]"
     ],
     "language": "python",
     "metadata": {},
     "outputs": [],
     "prompt_number": 18
    },
    {
     "cell_type": "code",
     "collapsed": false,
     "input": [
      "df_loans_noInterest_ver2['no_prev_loans'] = 0\n",
      "df_loans_noInterest_ver2['prev_total_borrowed'] = np.float('NaN')"
     ],
     "language": "python",
     "metadata": {},
     "outputs": [
      {
       "output_type": "stream",
       "stream": "stderr",
       "text": [
        "-c:1: SettingWithCopyWarning: \n",
        "A value is trying to be set on a copy of a slice from a DataFrame.\n",
        "Try using .loc[row_indexer,col_indexer] = value instead\n",
        "\n",
        "See the the caveats in the documentation: http://pandas.pydata.org/pandas-docs/stable/indexing.html#indexing-view-versus-copy\n",
        "-c:2: SettingWithCopyWarning: \n",
        "A value is trying to be set on a copy of a slice from a DataFrame.\n",
        "Try using .loc[row_indexer,col_indexer] = value instead\n",
        "\n",
        "See the the caveats in the documentation: http://pandas.pydata.org/pandas-docs/stable/indexing.html#indexing-view-versus-copy\n"
       ]
      }
     ],
     "prompt_number": 19
    },
    {
     "cell_type": "heading",
     "level": 3,
     "metadata": {},
     "source": [
      "Group loan data by borrower:"
     ]
    },
    {
     "cell_type": "code",
     "collapsed": false,
     "input": [
      "group_loans_noInterest_ver2_by_borrower = df_loans_noInterest_ver2.groupby('borrower_id')"
     ],
     "language": "python",
     "metadata": {},
     "outputs": [],
     "prompt_number": 20
    },
    {
     "cell_type": "code",
     "collapsed": false,
     "input": [
      "# Fill in 'no_prev_loans' and 'prev_total_borrowed' fields: \n",
      "\n",
      "for borrower, loan_data in group_loans_noInterest_ver2_by_borrower:\n",
      "    #ipdb.set_trace()\n",
      "    if len(loan_data)<2:\n",
      "        continue\n",
      "\n",
      "    row_iter = loan_data.iterrows()\n",
      "    first_row = row_iter.next()\n",
      "    del first_row\n",
      "\n",
      "    for index, row in row_iter:\n",
      "        #row\n",
      "        prev_loan_data = loan_data[['total_amount','paid_amount','disbursed_amount','status']].loc[(loan_data.disbursed_at<row.disbursed_at) & (loan_data.status.isin([3,5]))]\n",
      "\n",
      "        df_loans_noInterest_ver2['no_prev_loans'].ix[index] = len(prev_loan_data)\n",
      "        #df_loans_noInterest['prev_paid_percent'].ix[index] = np.sum(prev_loan_data.paid_amount) / float(np.sum(prev_loan_data.total_amount))\n",
      "        df_loans_noInterest_ver2['prev_total_borrowed'].ix[index] = np.sum(prev_loan_data.disbursed_amount)\n",
      "        #ipdb.set_trace()"
     ],
     "language": "python",
     "metadata": {},
     "outputs": [
      {
       "output_type": "stream",
       "stream": "stderr",
       "text": [
        "/Users/ozan/venv/base/lib/python2.7/site-packages/pandas/core/indexing.py:115: SettingWithCopyWarning: \n",
        "A value is trying to be set on a copy of a slice from a DataFrame\n",
        "\n",
        "See the the caveats in the documentation: http://pandas.pydata.org/pandas-docs/stable/indexing.html#indexing-view-versus-copy\n",
        "  self._setitem_with_indexer(indexer, value)\n",
        "-c:16: SettingWithCopyWarning: \n",
        "A value is trying to be set on a copy of a slice from a DataFrame\n",
        "\n",
        "See the the caveats in the documentation: http://pandas.pydata.org/pandas-docs/stable/indexing.html#indexing-view-versus-copy\n",
        "-c:18: SettingWithCopyWarning: \n",
        "A value is trying to be set on a copy of a slice from a DataFrame\n",
        "\n",
        "See the the caveats in the documentation: http://pandas.pydata.org/pandas-docs/stable/indexing.html#indexing-view-versus-copy\n"
       ]
      }
     ],
     "prompt_number": 21
    },
    {
     "cell_type": "code",
     "collapsed": false,
     "input": [
      "#impute prev_total_borrowed with 0 where 0\n",
      "df_loans_noInterest_ver2['prev_total_borrowed'].loc[df_loans_noInterest_ver2.prev_total_borrowed.isnull()] = 0.0 "
     ],
     "language": "python",
     "metadata": {},
     "outputs": [
      {
       "output_type": "stream",
       "stream": "stderr",
       "text": [
        "-c:2: SettingWithCopyWarning: \n",
        "A value is trying to be set on a copy of a slice from a DataFrame\n",
        "\n",
        "See the the caveats in the documentation: http://pandas.pydata.org/pandas-docs/stable/indexing.html#indexing-view-versus-copy\n"
       ]
      }
     ],
     "prompt_number": 22
    },
    {
     "cell_type": "code",
     "collapsed": false,
     "input": [
      "df_loans_noInterest_ver2['borrower_status'] = 'other'"
     ],
     "language": "python",
     "metadata": {},
     "outputs": [],
     "prompt_number": 23
    },
    {
     "cell_type": "code",
     "collapsed": false,
     "input": [
      "# Assign default or fully repaid status to borrowers\n",
      "for borrower, loan_data in group_loans_noInterest_ver2_by_borrower:\n",
      "    if any(loan_data.status==5):\n",
      "        df_loans_noInterest_ver2['borrower_status'].ix[loan_data.index] = 'defaulted'\n",
      "    elif any(loan_data.status==3):\n",
      "        df_loans_noInterest_ver2['borrower_status'].ix[loan_data.index] = 'fully_repaid'"
     ],
     "language": "python",
     "metadata": {},
     "outputs": [
      {
       "output_type": "stream",
       "stream": "stderr",
       "text": [
        "-c:6: SettingWithCopyWarning: \n",
        "A value is trying to be set on a copy of a slice from a DataFrame\n",
        "\n",
        "See the the caveats in the documentation: http://pandas.pydata.org/pandas-docs/stable/indexing.html#indexing-view-versus-copy\n",
        "-c:4: SettingWithCopyWarning: \n",
        "A value is trying to be set on a copy of a slice from a DataFrame\n",
        "\n",
        "See the the caveats in the documentation: http://pandas.pydata.org/pandas-docs/stable/indexing.html#indexing-view-versus-copy\n"
       ]
      }
     ],
     "prompt_number": 24
    },
    {
     "cell_type": "code",
     "collapsed": false,
     "input": [
      "# Question: How does being 'invited' affect chance of default? \n",
      "if False: df_loans_noInterest['is_invited'] = df_loans_noInterest.inviter_id.apply(lambda x: False if math.isnan(x) else True)\n",
      "df_loans_noInterest_ver2['is_invited'] = df_loans_noInterest_ver2.inviter_id.apply(lambda x: False if math.isnan(x) else True)"
     ],
     "language": "python",
     "metadata": {},
     "outputs": [
      {
       "output_type": "stream",
       "stream": "stderr",
       "text": [
        "-c:3: SettingWithCopyWarning: \n",
        "A value is trying to be set on a copy of a slice from a DataFrame.\n",
        "Try using .loc[row_indexer,col_indexer] = value instead\n",
        "\n",
        "See the the caveats in the documentation: http://pandas.pydata.org/pandas-docs/stable/indexing.html#indexing-view-versus-copy\n"
       ]
      }
     ],
     "prompt_number": 25
    },
    {
     "cell_type": "heading",
     "level": 3,
     "metadata": {},
     "source": [
      "Group loans by inviter:"
     ]
    },
    {
     "cell_type": "code",
     "collapsed": false,
     "input": [
      "if False: group_loans_NoIntrst_by_inviter = df_loans_noInterest.groupby('inviter_id') \n",
      "group_loans_NoIntrst_ver2_by_inviter = df_loans_noInterest_ver2.groupby('inviter_id')"
     ],
     "language": "python",
     "metadata": {},
     "outputs": [],
     "prompt_number": 26
    },
    {
     "cell_type": "heading",
     "level": 3,
     "metadata": {},
     "source": [
      "Categorize invited members by the 'type' of their invitors:"
     ]
    },
    {
     "cell_type": "code",
     "collapsed": false,
     "input": [
      "\n",
      "df_loans_noInterest_ver2['inviter_type'] = 'no_inviter'\n",
      "\n",
      "for inviter, inviter_loan in group_loans_NoIntrst_ver2_by_inviter:\n",
      "    #ipdb.set_trace()\n",
      "    if any(inviter_loan.borrower_status == 'defaulted'):\n",
      "        df_loans_noInterest_ver2['inviter_type'].ix[inviter_loan.index] = 'failed'\n",
      "    elif any(inviter_loan.borrower_status == 'fully_repaid'):\n",
      "        df_loans_noInterest_ver2['inviter_type'].ix[inviter_loan.index] = 'successful'\n",
      "    else:\n",
      "        df_loans_noInterest_ver2['inviter_type'].ix[inviter_loan.index] = 'unknown'"
     ],
     "language": "python",
     "metadata": {},
     "outputs": [
      {
       "output_type": "stream",
       "stream": "stderr",
       "text": [
        "-c:9: SettingWithCopyWarning: \n",
        "A value is trying to be set on a copy of a slice from a DataFrame\n",
        "\n",
        "See the the caveats in the documentation: http://pandas.pydata.org/pandas-docs/stable/indexing.html#indexing-view-versus-copy\n",
        "-c:11: SettingWithCopyWarning: \n",
        "A value is trying to be set on a copy of a slice from a DataFrame\n",
        "\n",
        "See the the caveats in the documentation: http://pandas.pydata.org/pandas-docs/stable/indexing.html#indexing-view-versus-copy\n",
        "-c:7: SettingWithCopyWarning: \n",
        "A value is trying to be set on a copy of a slice from a DataFrame\n",
        "\n",
        "See the the caveats in the documentation: http://pandas.pydata.org/pandas-docs/stable/indexing.html#indexing-view-versus-copy\n"
       ]
      }
     ],
     "prompt_number": 27
    },
    {
     "cell_type": "code",
     "collapsed": false,
     "input": [
      "#%matplotlib inline\n",
      "%matplotlib\n",
      "pd.options.display.mpl_style = 'default'  ## Nicer plot graphics\n",
      "\n",
      "import matplotlib\n",
      "matplotlib.style.use('ggplot')"
     ],
     "language": "python",
     "metadata": {},
     "outputs": [
      {
       "output_type": "stream",
       "stream": "stdout",
       "text": [
        "Using matplotlib backend: MacOSX\n"
       ]
      }
     ],
     "prompt_number": 28
    },
    {
     "cell_type": "heading",
     "level": 3,
     "metadata": {},
     "source": [
      "Plot Borrower Count by the Type of Their Inviter:"
     ]
    },
    {
     "cell_type": "code",
     "collapsed": false,
     "input": [
      "fig1 = plt.figure(figsize=(6,8))\n",
      "ax1 = fig1.gca()\n",
      "\n",
      "df_loans_noInterest_ver2[df_loans_noInterest_ver2.borrower_status.isin(['defaulted','fully_repaid'])].groupby('inviter_type').borrower_status.value_counts().unstack().plot(kind='bar',stacked=True,ax=ax1,colormap='jet')\n",
      "\n",
      "plt.xticks(fontsize=16,rotation='horizontal')\n",
      "plt.yticks(fontsize=14)\n",
      "plt.xlabel('Category of Inviter Member',fontsize=16)\n",
      "plt.ylabel('No of Borrowers',fontsize=16)\n",
      "plt.title('Loan Success vs Inviter Type',fontsize=16)\n",
      "plt.legend(['Fully Paid','Defaulted'],fontsize=16,loc=2)\n",
      "#plt.savefig(open('default_rates_by_inviter_type.pdf','wb'),dpi=200,format='pdf')\n"
     ],
     "language": "python",
     "metadata": {},
     "outputs": [
      {
       "metadata": {},
       "output_type": "pyout",
       "prompt_number": 32,
       "text": [
        "<matplotlib.legend.Legend at 0x117f62b50>"
       ]
      }
     ],
     "prompt_number": 32
    },
    {
     "cell_type": "heading",
     "level": 3,
     "metadata": {},
     "source": [
      "Assign 'on_time' stamp for each installment: "
     ]
    },
    {
     "cell_type": "code",
     "collapsed": false,
     "input": [
      "due_cutoff = final_payment_date - datetime.timedelta(days=15)\n",
      "\n",
      "df_install_loan_noInterest_ver2['percent_paid_upToNow'] = np.float('NaN')\n",
      "df_install_loan_noInterest_ver2['on_time'] = np.float('NaN')\n",
      "\n",
      "df_install_loan_noInterest_ver2['on_time'].loc[df_install_loan_noInterest_ver2.paid_date.isnull()] = False\n",
      "df_install_loan_noInterest_ver2['on_time'].loc[df_install_loan_noInterest_ver2.amount<=0.0] = np.float('NaN')\n",
      "df_install_loan_noInterest_ver2['on_time'].loc[df_install_loan_noInterest_ver2.due_date>due_cutoff] = np.float('NaN')\n",
      "\n",
      "group_inst_noIntrst_ver2_perLoan = df_install_loan_noInterest_ver2[df_install_loan_noInterest_ver2.amount>0.0].groupby('loan_id')\n",
      "#group_install_by_loan_noInterest_ver2 = df_install_loan_noInterest_ver2.groupby('loan_id')"
     ],
     "language": "python",
     "metadata": {},
     "outputs": [
      {
       "output_type": "stream",
       "stream": "stderr",
       "text": [
        "-c:4: SettingWithCopyWarning: \n",
        "A value is trying to be set on a copy of a slice from a DataFrame.\n",
        "Try using .loc[row_indexer,col_indexer] = value instead\n",
        "\n",
        "See the the caveats in the documentation: http://pandas.pydata.org/pandas-docs/stable/indexing.html#indexing-view-versus-copy\n",
        "-c:8: SettingWithCopyWarning: \n",
        "A value is trying to be set on a copy of a slice from a DataFrame\n",
        "\n",
        "See the the caveats in the documentation: http://pandas.pydata.org/pandas-docs/stable/indexing.html#indexing-view-versus-copy\n"
       ]
      }
     ],
     "prompt_number": 37
    },
    {
     "cell_type": "code",
     "collapsed": false,
     "input": [
      "for loan, loan_inst in group_inst_noIntrst_ver2_perLoan:        \n",
      "    df_install_loan_noInterest_ver2['on_time'].ix[loan_inst[loan_inst.paid_date.notnull()].index] = pd.to_datetime(loan_inst.paid_date[loan_inst.paid_date.notnull()]) < pd.to_datetime(loan_inst.due_date[loan_inst.paid_date.notnull()]) + datetime.timedelta(days=11)\n",
      "    #ipdb.set_trace()"
     ],
     "language": "python",
     "metadata": {},
     "outputs": [],
     "prompt_number": 38
    },
    {
     "cell_type": "heading",
     "level": 3,
     "metadata": {},
     "source": [
      "Feature Engineering: 'Payment1_onTime'"
     ]
    },
    {
     "cell_type": "code",
     "collapsed": false,
     "input": [
      "df_loans_noInterest_ver2['Payment1_onTime'] = np.float('NaN')"
     ],
     "language": "python",
     "metadata": {},
     "outputs": [],
     "prompt_number": 39
    },
    {
     "cell_type": "code",
     "collapsed": false,
     "input": [
      "# Latest date a payment was made:\n",
      "final_payment_date = df_install_loan_noInterest_ver2.paid_date.max()  #2015-06-11\n",
      "group_inst_noIntrst_ver2_perLoan = df_install_loan_noInterest_ver2[df_install_loan_noInterest_ver2.amount>0.0].groupby('loan_id')"
     ],
     "language": "python",
     "metadata": {},
     "outputs": [],
     "prompt_number": 40
    },
    {
     "cell_type": "code",
     "collapsed": false,
     "input": [
      "# Get 1st Installment:\n",
      "df_loan_noIntsrt_ver2_Install_1 = group_inst_noIntrst_ver2_perLoan.apply(lambda x: x.sort('due_date').iloc[0])\n",
      "df_loan_noIntsrt_ver2_Install_1 = df_loan_noIntsrt_ver2_Install_1[pd.to_datetime(df_loan_noIntsrt_ver2_Install_1.due_date) + datetime.timedelta(days=11) < final_payment_date]\n",
      "\n",
      "df_loan_noIntsrt_ver2_Install_1['on_time'].loc[df_loan_noIntsrt_ver2_Install_1.paid_date.isnull()] = False\n",
      "df_loan_noIntsrt_ver2_Install_1['on_time'].loc[df_loan_noIntsrt_ver2_Install_1.paid_date.notnull()] = df_loan_noIntsrt_ver2_Install_1.loc[df_loan_noIntsrt_ver2_Install_1.paid_date.notnull()].apply(lambda x: ((pd.to_datetime(x.paid_date) < pd.to_datetime(x.due_date) + datetime.timedelta(days=11))),axis=1)"
     ],
     "language": "python",
     "metadata": {},
     "outputs": [],
     "prompt_number": 41
    },
    {
     "cell_type": "code",
     "collapsed": false,
     "input": [
      "# Merge with loan data on loan id to assign the 'on_time' column to 'Payment1_onTime'\n",
      "df_onTime_1 = df_loan_noIntsrt_ver2_Install_1['on_time'].reset_index()\n",
      "\n",
      "df_loans_noInterest_ver2 = df_loans_noInterest_ver2.merge(df_onTime_1,left_on='id',right_on='loan_id',how='left',suffixes=('','_1'))\n",
      "df_loans_noInterest_ver2['Payment1_onTime'] = df_loans_noInterest_ver2.on_time\n",
      "df_loans_noInterest_ver2.drop(['loan_id','on_time'],axis=1,inplace=True)"
     ],
     "language": "python",
     "metadata": {},
     "outputs": [],
     "prompt_number": 42
    },
    {
     "cell_type": "heading",
     "level": 3,
     "metadata": {},
     "source": [
      "Make feature: 'Payment2_onTime'"
     ]
    },
    {
     "cell_type": "code",
     "collapsed": false,
     "input": [
      "df_loans_noInterest_ver2['Payment2_onTime'] = np.float('NaN')\n",
      "\n",
      "# Get 2nd Installment:\n",
      "group_inst_perLoan_install2 = group_inst_noIntrst_ver2_perLoan.filter(lambda x: len(x) > 1).groupby('loan_id')\n",
      "df_loan_noIntsrt_ver2_Install_2 = group_inst_perLoan_install2.apply(lambda x: x.sort('due_date').iloc[1])\n",
      "df_loan_noIntsrt_ver2_Install_2 = df_loan_noIntsrt_ver2_Install_2[pd.to_datetime(df_loan_noIntsrt_ver2_Install_2.due_date) + datetime.timedelta(days=11) <final_payment_date]\n",
      "\n",
      "df_loan_noIntsrt_ver2_Install_2['on_time'].loc[df_loan_noIntsrt_ver2_Install_2.paid_date.isnull()] = False\n",
      "df_loan_noIntsrt_ver2_Install_2['on_time'].loc[df_loan_noIntsrt_ver2_Install_2.paid_date.notnull()] = df_loan_noIntsrt_ver2_Install_2.loc[df_loan_noIntsrt_ver2_Install_2.paid_date.notnull()].apply(lambda x: ((pd.to_datetime(x.paid_date) < pd.to_datetime(x.due_date) + datetime.timedelta(days=11))),axis=1)\n",
      "#df_loan_noIntsrt_ver2_Install_2['on_time'] = df_loan_noIntsrt_ver2_Install_2.apply(lambda x: ((pd.to_datetime(x.paid_date) < pd.to_datetime(x.due_date) + datetime.timedelta(days=11))),axis=1)\n",
      "\n",
      "# Merge with loan data on loan id to assign the 'on_time' column to 'Payment1_onTime'\n",
      "df_onTime_2 = df_loan_noIntsrt_ver2_Install_2['on_time'].reset_index()\n",
      "\n",
      "df_loans_noInterest_ver2 = df_loans_noInterest_ver2.merge(df_onTime_2,left_on='id',right_on='loan_id',how='left',suffixes=('','_1'))\n",
      "df_loans_noInterest_ver2['Payment2_onTime'] = df_loans_noInterest_ver2.on_time\n",
      "df_loans_noInterest_ver2.drop(['loan_id','on_time'],axis=1,inplace=True)"
     ],
     "language": "python",
     "metadata": {},
     "outputs": [],
     "prompt_number": 43
    },
    {
     "cell_type": "heading",
     "level": 3,
     "metadata": {},
     "source": [
      "Make feature: 'Payment3_onTime'"
     ]
    },
    {
     "cell_type": "code",
     "collapsed": false,
     "input": [
      "df_loans_noInterest_ver2['Payment3_onTime'] = np.float('NaN')\n",
      "\n",
      "# Get 3rd Installment:\n",
      "group_inst_perLoan_install3 = group_inst_noIntrst_ver2_perLoan.filter(lambda x: len(x) > 2).groupby('loan_id')\n",
      "df_loan_noIntsrt_ver2_Install_3 = group_inst_perLoan_install3.apply(lambda x: x.sort('due_date').iloc[2])\n",
      "df_loan_noIntsrt_ver2_Install_3 = df_loan_noIntsrt_ver2_Install_3[pd.to_datetime(df_loan_noIntsrt_ver2_Install_3.due_date) + datetime.timedelta(days=11) <final_payment_date]\n",
      "\n",
      "df_loan_noIntsrt_ver2_Install_3['on_time'].loc[df_loan_noIntsrt_ver2_Install_3.paid_date.isnull()] = False\n",
      "df_loan_noIntsrt_ver2_Install_3['on_time'].loc[df_loan_noIntsrt_ver2_Install_3.paid_date.notnull()] = df_loan_noIntsrt_ver2_Install_3.loc[df_loan_noIntsrt_ver2_Install_3.paid_date.notnull()].apply(lambda x: ((pd.to_datetime(x.paid_date) < pd.to_datetime(x.due_date) + datetime.timedelta(days=11))),axis=1)\n",
      "#df_loan_noIntsrt_ver2_Install_3['on_time'] = df_loan_noIntsrt_ver2_Install_3.apply(lambda x: ((pd.to_datetime(x.paid_date) < pd.to_datetime(x.due_date) + datetime.timedelta(days=11))),axis=1)\n",
      "\n",
      "# Merge with loan data on loan id to assign the 'on_time' column to 'Payment1_onTime'\n",
      "df_onTime_3 = df_loan_noIntsrt_ver2_Install_3['on_time'].reset_index()\n",
      "\n",
      "df_loans_noInterest_ver2 = df_loans_noInterest_ver2.merge(df_onTime_3,left_on='id',right_on='loan_id',how='left',suffixes=('','_1'))\n",
      "df_loans_noInterest_ver2['Payment3_onTime'] = df_loans_noInterest_ver2.on_time\n",
      "df_loans_noInterest_ver2.drop(['loan_id','on_time'],axis=1,inplace=True)"
     ],
     "language": "python",
     "metadata": {},
     "outputs": [],
     "prompt_number": 44
    },
    {
     "cell_type": "heading",
     "level": 3,
     "metadata": {},
     "source": [
      "Make feature: 'Payment4_onTime'"
     ]
    },
    {
     "cell_type": "code",
     "collapsed": false,
     "input": [
      "df_loans_noInterest_ver2['Payment4_onTime'] = np.float('NaN')\n",
      "\n",
      "# Get 4th Installment:\n",
      "group_inst_perLoan_install4 = group_inst_noIntrst_ver2_perLoan.filter(lambda x: len(x) > 3).groupby('loan_id')\n",
      "df_loan_noIntsrt_ver2_Install_4 = group_inst_perLoan_install4.apply(lambda x: x.sort('due_date').iloc[3])\n",
      "df_loan_noIntsrt_ver2_Install_4 = df_loan_noIntsrt_ver2_Install_4[pd.to_datetime(df_loan_noIntsrt_ver2_Install_4.due_date) + datetime.timedelta(days=11) <final_payment_date]\n",
      "\n",
      "df_loan_noIntsrt_ver2_Install_4['on_time'].loc[df_loan_noIntsrt_ver2_Install_4.paid_date.isnull()] = False\n",
      "df_loan_noIntsrt_ver2_Install_4['on_time'].loc[df_loan_noIntsrt_ver2_Install_4.paid_date.notnull()] = df_loan_noIntsrt_ver2_Install_4.loc[df_loan_noIntsrt_ver2_Install_4.paid_date.notnull()].apply(lambda x: ((pd.to_datetime(x.paid_date) < pd.to_datetime(x.due_date) + datetime.timedelta(days=11))),axis=1)\n",
      "#df_loan_noIntsrt_ver2_Install_4['on_time'] = df_loan_noIntsrt_ver2_Install_4.apply(lambda x: ((pd.to_datetime(x.paid_date) < pd.to_datetime(x.due_date) + datetime.timedelta(days=11))),axis=1)\n",
      "\n",
      "# Merge with loan data on loan id to assign the 'on_time' column to 'Payment1_onTime'\n",
      "df_onTime_4 = df_loan_noIntsrt_ver2_Install_4['on_time'].reset_index()\n",
      "\n",
      "df_loans_noInterest_ver2 = df_loans_noInterest_ver2.merge(df_onTime_4,left_on='id',right_on='loan_id',how='left',suffixes=('','_1'))\n",
      "df_loans_noInterest_ver2['Payment4_onTime'] = df_loans_noInterest_ver2.on_time\n",
      "df_loans_noInterest_ver2.drop(['loan_id','on_time'],axis=1,inplace=True)"
     ],
     "language": "python",
     "metadata": {},
     "outputs": [],
     "prompt_number": 45
    },
    {
     "cell_type": "heading",
     "level": 3,
     "metadata": {},
     "source": [
      "Make feature: 'Payment5_onTime'"
     ]
    },
    {
     "cell_type": "code",
     "collapsed": false,
     "input": [
      "df_loans_noInterest_ver2['Payment5_onTime'] = np.float('NaN')\n",
      "\n",
      "# Get 5th Installment:\n",
      "group_inst_perLoan_install5 = group_inst_noIntrst_ver2_perLoan.filter(lambda x: len(x) > 4).groupby('loan_id')\n",
      "df_loan_noIntsrt_ver2_Install_5 = group_inst_perLoan_install5.apply(lambda x: x.sort('due_date').iloc[4])\n",
      "df_loan_noIntsrt_ver2_Install_5 = df_loan_noIntsrt_ver2_Install_5[pd.to_datetime(df_loan_noIntsrt_ver2_Install_5.due_date) + datetime.timedelta(days=11) <final_payment_date]\n",
      "\n",
      "df_loan_noIntsrt_ver2_Install_5['on_time'].loc[df_loan_noIntsrt_ver2_Install_5.paid_date.isnull()] = False\n",
      "df_loan_noIntsrt_ver2_Install_5['on_time'].loc[df_loan_noIntsrt_ver2_Install_5.paid_date.notnull()] = df_loan_noIntsrt_ver2_Install_5.loc[df_loan_noIntsrt_ver2_Install_5.paid_date.notnull()].apply(lambda x: ((pd.to_datetime(x.paid_date) < pd.to_datetime(x.due_date) + datetime.timedelta(days=11))),axis=1)\n",
      "#df_loan_noIntsrt_ver2_Install_5['on_time'] = df_loan_noIntsrt_ver2_Install_5.apply(lambda x: ((pd.to_datetime(x.paid_date) < pd.to_datetime(x.due_date) + datetime.timedelta(days=11))),axis=1)\n",
      "\n",
      "# Merge with loan data on loan id to assign the 'on_time' column to 'Payment1_onTime'\n",
      "df_onTime_5 = df_loan_noIntsrt_ver2_Install_5['on_time'].reset_index()\n",
      "\n",
      "df_loans_noInterest_ver2 = df_loans_noInterest_ver2.merge(df_onTime_5,left_on='id',right_on='loan_id',how='left',suffixes=('','_1'))\n",
      "df_loans_noInterest_ver2['Payment5_onTime'] = df_loans_noInterest_ver2.on_time\n",
      "df_loans_noInterest_ver2.drop(['loan_id','on_time'],axis=1,inplace=True)"
     ],
     "language": "python",
     "metadata": {},
     "outputs": [],
     "prompt_number": 46
    },
    {
     "cell_type": "code",
     "collapsed": false,
     "input": [
      "#Investigate on_time ratios for first 4 installments\n",
      "\n",
      "#len(df_loans_noInterest_ver2.loc[df_loans_noInterest_ver2.disbursed_at> pd.to_datetime('2014-12-31')])   #4126\n",
      "#len(df_loans_noInterest_ver2.loc[df_loans_noInterest_ver2.disbursed_at<= pd.to_datetime('2015-01-31')])  #2303\n",
      "\n",
      "loans_noInt_disb_2015 = df_loans_noInterest_ver2.loc[df_loans_noInterest_ver2.disbursed_at > pd.to_datetime('2014-12-30')]\n",
      "loans_noInt_disb_2014 = df_loans_noInterest_ver2.loc[df_loans_noInterest_ver2.disbursed_at <= pd.to_datetime('2014-12-30')]\n",
      "\n",
      "loans_noInt_disb_2015['Payment1_onTime'].mean()  #0.83\n",
      "loans_noInt_disb_2015['Payment1_onTime'].loc[loans_noInt_disb_2015.status==2].mean()   #0.78\n",
      "loans_noInt_disb_2014['Payment1_onTime'].loc[loans_noInt_disb_2014.status==2].mean()   #0.80\n",
      "\n",
      "#loans_noInt_disb_2015['Payment2_onTime'].loc[loans_noInt_disb_2015.status.isin([3,5])].mean()   #0.965 - They are all status:3\n",
      "#loans_noInt_disb_2014['Payment2_onTime'].loc[loans_noInt_disb_2014.status.isin([3,5])].mean()   #0.84\n",
      "\n",
      "loans_noInt_disb_2015['Payment4_onTime'].loc[loans_noInt_disb_2015.status==2].mean()   #0.66\n",
      "loans_noInt_disb_2014['Payment4_onTime'].loc[loans_noInt_disb_2014.status==2].mean()   #0.69"
     ],
     "language": "python",
     "metadata": {},
     "outputs": [
      {
       "metadata": {},
       "output_type": "pyout",
       "prompt_number": 48,
       "text": [
        "0.68735632183908046"
       ]
      }
     ],
     "prompt_number": 48
    },
    {
     "cell_type": "heading",
     "level": 3,
     "metadata": {},
     "source": [
      "Plot Default Rates by Payments On Time"
     ]
    },
    {
     "cell_type": "code",
     "collapsed": false,
     "input": [
      "fig_onTime, axs = plt.subplots(nrows=1, ncols=2, sharex=True)\n",
      "\n",
      "df_loans_noInterest_ver2[df_loans_noInterest_ver2.status.isin([3,5])].groupby('Payment1_onTime').status.value_counts().unstack().plot(kind='bar',stacked=True,ax=axs[0],colormap='jet')\n",
      "axs[0].set_xlabel('First Payment On Time',fontsize=16)\n",
      "axs[0].set_ylabel('No of Loans',fontsize=17)\n",
      "axs[0].legend(['Fully Paid', 'Defaulted'], fontsize=14,loc=2)\n",
      "\n",
      "df_loans_noInterest_ver2[df_loans_noInterest_ver2.status.isin([3,5])].groupby('Payment4_onTime').status.value_counts().unstack().plot(kind='bar',stacked=True,ax=axs[1],colormap='jet')\n",
      "axs[1].set_xlabel('Fourth Payment On Time',fontsize=16)\n",
      "axs[1].legend_.remove()\n",
      "\n",
      "plt.setp(axs[0].get_xticklabels(), rotation='horizontal', fontsize=15)\n",
      "plt.setp(axs[1].get_xticklabels(), rotation='horizontal', fontsize=15)\n",
      "plt.setp(axs[0].get_yticklabels(), fontsize=15)\n",
      "plt.setp(axs[1].get_yticklabels(), fontsize=15)\n",
      "\n",
      "plt.subplots_adjust(left=0.15, right=0.9, top=0.9, bottom=0.2)\n",
      "\n",
      "fig_onTime.suptitle('Loan Success versus On Time Payments',fontsize=18)"
     ],
     "language": "python",
     "metadata": {},
     "outputs": [],
     "prompt_number": 55
    },
    {
     "cell_type": "code",
     "collapsed": false,
     "input": [
      "def non_decreasing(L):\n",
      "    return all(x<=y for x, y in zip(L, L[1:]))"
     ],
     "language": "python",
     "metadata": {},
     "outputs": [],
     "prompt_number": 1288
    },
    {
     "cell_type": "code",
     "collapsed": false,
     "input": [
      "group_inst_noIntrst_ver2_perLoan = df_install_loan_noInterest_ver2[df_install_loan_noInterest_ver2.amount>0.0].groupby('loan_id')"
     ],
     "language": "python",
     "metadata": {},
     "outputs": [],
     "prompt_number": 49
    },
    {
     "cell_type": "heading",
     "level": 3,
     "metadata": {},
     "source": [
      "For every installment due date, add the cumulate paid percentage of the dues till after that installment:"
     ]
    },
    {
     "cell_type": "code",
     "collapsed": false,
     "input": [
      "# Improved version: Checks if payment was on time also\n",
      "for thisLoan, loan_inst in group_inst_noIntrst_ver2_perLoan:    \n",
      "    #ipdb.set_trace()        \n",
      "    loan_inst = loan_inst.loc[loan_inst.on_time.notnull()]  \n",
      "    loan_inst['paid_amount'].loc[loan_inst.on_time == False] = 0.0\n",
      "\n",
      "    for inst_ind in xrange(len(loan_inst)):\n",
      "\n",
      "        if False: \n",
      "            total_due  = np.nansum(loan_inst['amount'].iloc[:inst_ind+1])  \n",
      "            total_paid = np.nansum(loan_inst['paid_amount'].iloc[:inst_ind+1])\n",
      "\n",
      "        # Should not be any nulls\n",
      "        total_due  = np.sum(loan_inst['amount'].iloc[:inst_ind+1])  \n",
      "        total_paid = np.sum(loan_inst['paid_amount'].iloc[:inst_ind+1])\n",
      "\n",
      "        df_install_loan_noInterest_ver2['percent_paid_upToNow'].ix[loan_inst.index[inst_ind]] = total_paid/float(total_due)\n",
      "        #ipdb.set_trace()\n",
      "\n",
      "    print thisLoan"
     ],
     "language": "python",
     "metadata": {},
     "outputs": [
      {
       "output_type": "stream",
       "stream": "stderr",
       "text": [
        "-c:32: SettingWithCopyWarning: \n",
        "A value is trying to be set on a copy of a slice from a DataFrame\n",
        "\n",
        "See the the caveats in the documentation: http://pandas.pydata.org/pandas-docs/stable/indexing.html#indexing-view-versus-copy\n",
        "-c:10: SettingWithCopyWarning: \n",
        "A value is trying to be set on a copy of a slice from a DataFrame\n",
        "\n",
        "See the the caveats in the documentation: http://pandas.pydata.org/pandas-docs/stable/indexing.html#indexing-view-versus-copy\n"
       ]
      }
     ],
     "prompt_number": 1292
    },
    {
     "cell_type": "code",
     "collapsed": false,
     "input": [
      "# save to csv \n",
      "if False:\n",
      "    #df_install_loan_noInterest_ver2.to_csv('data_installment_loan_ver2.csv')\n",
      "    #df_install_loan_noInterest_ver2.to_csv('data_installment_loan_ver2_new.csv')\n",
      "    df_install_loan_noInterest_ver2.to_csv('data_installment_loan_ver2_0713.csv') "
     ],
     "language": "python",
     "metadata": {},
     "outputs": [],
     "prompt_number": 1293
    },
    {
     "cell_type": "code",
     "collapsed": false,
     "input": [
      "# Load the loan-installments dataFrame that was previously modified and saved above:\n",
      "if True:\n",
      "    #df_csv_read_test = pd.read_csv('data_installment_loan_ver2.csv')\n",
      "    df_csv_read_test = pd.read_csv('data_installment_loan_ver2_0713.csv')\n",
      "    df_csv_read_test.index = df_csv_read_test['Unnamed: 0']\n",
      "    df_csv_read_test.index.name = ''\n",
      "    df_csv_read_test.drop('Unnamed: 0',axis=1,inplace=True)\n",
      "    \n",
      "    df_install_loan_noInterest_ver2 = df_csv_read_test\n",
      "    del df_csv_read_test    "
     ],
     "language": "python",
     "metadata": {},
     "outputs": [
      {
       "output_type": "stream",
       "stream": "stderr",
       "text": [
        "/Users/ozan/venv/base/lib/python2.7/site-packages/pandas/io/parsers.py:1170: DtypeWarning: Columns (17) have mixed types. Specify dtype option on import or set low_memory=False.\n",
        "  data = self._reader.read(nrows)\n"
       ]
      }
     ],
     "prompt_number": 57
    },
    {
     "cell_type": "code",
     "collapsed": false,
     "input": [
      "group_install_by_loan_noInterest_ver2 = df_install_loan_noInterest_ver2.groupby('loan_id')"
     ],
     "language": "python",
     "metadata": {},
     "outputs": [],
     "prompt_number": 58
    },
    {
     "cell_type": "heading",
     "level": 3,
     "metadata": {},
     "source": [
      "Engineer the features for the cumulative paid percentage after the first 12 installments:"
     ]
    },
    {
     "cell_type": "code",
     "collapsed": false,
     "input": [
      "features_str = ['percentPaid_after_Inst_'+str(x) for x in range(1,13)]\n",
      "\n",
      "for feature_name in features_str:\n",
      "    df_loans_noInterest_ver2[feature_name] = np.float('NaN')"
     ],
     "language": "python",
     "metadata": {},
     "outputs": [],
     "prompt_number": 59
    },
    {
     "cell_type": "code",
     "collapsed": false,
     "input": [
      "for thisLoan, loan_inst in group_install_by_loan_noInterest_ver2:\n",
      "    #ipdb.set_trace()\n",
      "    \n",
      "    loan_inst = loan_inst[loan_inst.percent_paid_upToNow.notnull()]    \n",
      "    \n",
      "    #ipdb.set_trace()    \n",
      "    for ind in xrange(len(loan_inst)):\n",
      "        #ipdb.set_trace()\n",
      "        if ind == 12:\n",
      "            break\n",
      "        #ipdb.set_trace()    \n",
      "        df_loans_noInterest_ver2.loc[df_loans_noInterest_ver2.id == thisLoan, 'percentPaid_after_Inst_'+str(ind+1)] = loan_inst['percent_paid_upToNow'].iloc[ind]\n",
      "    #print thisLoan"
     ],
     "language": "python",
     "metadata": {},
     "outputs": [],
     "prompt_number": 60
    },
    {
     "cell_type": "heading",
     "level": 1,
     "metadata": {},
     "source": [
      "Predictive Modeling"
     ]
    },
    {
     "cell_type": "heading",
     "level": 2,
     "metadata": {},
     "source": [
      "First: Build model(s) that predicts defaults (or probabilty of default)"
     ]
    },
    {
     "cell_type": "code",
     "collapsed": false,
     "input": [
      "from sklearn import linear_model\n",
      "#from sklearn.grid_search import GridSearchCV\n",
      "from sklearn import grid_search\n",
      "from sklearn.cross_validation import train_test_split\n",
      "from sklearn.metrics import r2_score \n",
      "from sklearn.feature_selection import f_regression\n",
      "from sklearn.linear_model import LogisticRegression\n",
      "from sklearn.ensemble import RandomForestClassifier\n",
      "from sklearn.metrics import roc_curve, auc, f1_score, precision_recall_curve, confusion_matrix\n",
      "from sklearn.metrics import accuracy_score, recall_score, precision_score\n",
      "from sklearn.preprocessing import LabelEncoder, OneHotEncoder"
     ],
     "language": "python",
     "metadata": {},
     "outputs": [],
     "prompt_number": 61
    },
    {
     "cell_type": "heading",
     "level": 3,
     "metadata": {},
     "source": [
      "Impute Missing Percent Paid by Fitting: "
     ]
    },
    {
     "cell_type": "code",
     "collapsed": false,
     "input": [
      "from scipy.interpolate import UnivariateSpline"
     ],
     "language": "python",
     "metadata": {},
     "outputs": [],
     "prompt_number": 62
    },
    {
     "cell_type": "code",
     "collapsed": false,
     "input": [
      "percentPaid_Features = [u'percentPaid_after_Inst_1', u'percentPaid_after_Inst_2', u'percentPaid_after_Inst_3', u'percentPaid_after_Inst_4',\n",
      "       u'percentPaid_after_Inst_5', u'percentPaid_after_Inst_6',u'percentPaid_after_Inst_7', u'percentPaid_after_Inst_8',\n",
      "       u'percentPaid_after_Inst_9', u'percentPaid_after_Inst_10',u'percentPaid_after_Inst_11', u'percentPaid_after_Inst_12']\n"
     ],
     "language": "python",
     "metadata": {},
     "outputs": [],
     "prompt_number": 63
    },
    {
     "cell_type": "code",
     "collapsed": false,
     "input": [
      "def imputeFirstOrderSpline(df_loan_info,future_payment_ind):\n",
      "\n",
      "    df_payment = df_loan_info[percentPaid_Features]\n",
      "    \n",
      "    k_payment = future_payment_ind[0]\n",
      "    pay_ind = np.array(range(0,k_payment))\n",
      "    \n",
      "    for index_row, row_payment in df_payment.iterrows():\n",
      "\n",
      "        vals     = np.array(row_payment)\n",
      "        pay_vals = np.insert(vals[:k_payment-1], 0, 1.0)   #put 1.0 at zeroth installment\n",
      "\n",
      "        pay_vals[pay_vals>1.0] = 1.0\n",
      "        pay_vals[pay_vals<0.0] = 0.0\n",
      "        \n",
      "        extrapolator = UnivariateSpline( pay_ind, pay_vals, k=1)\n",
      "    \n",
      "        new_vals = extrapolator(future_payment_ind)\n",
      "    \n",
      "        new_vals[new_vals>1.0] = 1.0\n",
      "        new_vals[new_vals<0.0] = 0.0\n",
      "        \n",
      "        vals[k_payment-1:] = new_vals\n",
      "\n",
      "        df_loan_info.loc[index_row,percentPaid_Features] = vals\n",
      "    \n",
      "    #ipdb.set_trace()\n",
      "    \n",
      "    return df_loan_info "
     ],
     "language": "python",
     "metadata": {},
     "outputs": [],
     "prompt_number": 64
    },
    {
     "cell_type": "code",
     "collapsed": false,
     "input": [
      "#np.sum(df_loans_noInterest_ver2_active.isnull())\n",
      "median_paid1 = df_loans_noInterest_ver2[df_loans_noInterest_ver2.status.isin([3,5])].percentPaid_after_Inst_1.median()\n",
      "median_paid2 = df_loans_noInterest_ver2[df_loans_noInterest_ver2.status.isin([3,5])].percentPaid_after_Inst_2.median()\n",
      "\n",
      "df_loans_noInterest_ver2.loc[df_loans_noInterest_ver2.percentPaid_after_Inst_1.isnull()] = median_paid1\n",
      "\n",
      "#Impute 2nd Payment\n",
      "df_loans_noInterest_ver2.loc[df_loans_noInterest_ver2.percentPaid_after_Inst_2.isnull()] = imputeFirstOrderSpline(df_loans_noInterest_ver2.loc[df_loans_noInterest_ver2.percentPaid_after_Inst_2.isnull()],range(2,13))\n",
      "\n",
      "#3rd Payment and Beyond \n",
      "df_loans_noInterest_ver2.loc[df_loans_noInterest_ver2.percentPaid_after_Inst_3.isnull()] = imputeFirstOrderSpline(df_loans_noInterest_ver2.loc[df_loans_noInterest_ver2.percentPaid_after_Inst_3.isnull()],range(3,13))\n",
      "df_loans_noInterest_ver2.loc[df_loans_noInterest_ver2.percentPaid_after_Inst_4.isnull()] = imputeFirstOrderSpline(df_loans_noInterest_ver2.loc[df_loans_noInterest_ver2.percentPaid_after_Inst_4.isnull()],range(4,13))\n",
      "df_loans_noInterest_ver2.loc[df_loans_noInterest_ver2.percentPaid_after_Inst_5.isnull()] = imputeFirstOrderSpline(df_loans_noInterest_ver2.loc[df_loans_noInterest_ver2.percentPaid_after_Inst_5.isnull()],range(5,13))\n",
      "df_loans_noInterest_ver2.loc[df_loans_noInterest_ver2.percentPaid_after_Inst_6.isnull()] = imputeFirstOrderSpline(df_loans_noInterest_ver2.loc[df_loans_noInterest_ver2.percentPaid_after_Inst_6.isnull()],range(6,13))\n",
      "df_loans_noInterest_ver2.loc[df_loans_noInterest_ver2.percentPaid_after_Inst_7.isnull()] = imputeFirstOrderSpline(df_loans_noInterest_ver2.loc[df_loans_noInterest_ver2.percentPaid_after_Inst_7.isnull()],range(7,13))\n",
      "df_loans_noInterest_ver2.loc[df_loans_noInterest_ver2.percentPaid_after_Inst_8.isnull()] = imputeFirstOrderSpline(df_loans_noInterest_ver2.loc[df_loans_noInterest_ver2.percentPaid_after_Inst_8.isnull()],range(8,13))\n",
      "df_loans_noInterest_ver2.loc[df_loans_noInterest_ver2.percentPaid_after_Inst_9.isnull()] = imputeFirstOrderSpline(df_loans_noInterest_ver2.loc[df_loans_noInterest_ver2.percentPaid_after_Inst_9.isnull()],range(9,13))\n",
      "df_loans_noInterest_ver2.loc[df_loans_noInterest_ver2.percentPaid_after_Inst_10.isnull()] = imputeFirstOrderSpline(df_loans_noInterest_ver2.loc[df_loans_noInterest_ver2.percentPaid_after_Inst_10.isnull()],range(10,13))\n",
      "df_loans_noInterest_ver2.loc[df_loans_noInterest_ver2.percentPaid_after_Inst_11.isnull()] = imputeFirstOrderSpline(df_loans_noInterest_ver2.loc[df_loans_noInterest_ver2.percentPaid_after_Inst_11.isnull()],range(11,13))\n",
      "df_loans_noInterest_ver2.loc[df_loans_noInterest_ver2.percentPaid_after_Inst_12.isnull()] = imputeFirstOrderSpline(df_loans_noInterest_ver2.loc[df_loans_noInterest_ver2.percentPaid_after_Inst_12.isnull()],range(12,13))\n"
     ],
     "language": "python",
     "metadata": {},
     "outputs": [
      {
       "output_type": "stream",
       "stream": "stderr",
       "text": [
        "/Users/ozan/venv/base/lib/python2.7/site-packages/pandas/core/indexing.py:415: SettingWithCopyWarning: \n",
        "A value is trying to be set on a copy of a slice from a DataFrame.\n",
        "Try using .loc[row_indexer,col_indexer] = value instead\n",
        "\n",
        "See the the caveats in the documentation: http://pandas.pydata.org/pandas-docs/stable/indexing.html#indexing-view-versus-copy\n",
        "  self.obj[item] = s\n"
       ]
      }
     ],
     "prompt_number": 67
    },
    {
     "cell_type": "heading",
     "level": 3,
     "metadata": {},
     "source": [
      "Add Disbursement Week and Month to Loans DataFrame: "
     ]
    },
    {
     "cell_type": "code",
     "collapsed": false,
     "input": [
      "first_disbursed_date = df_loans_noInterest_ver2.disbursed_at.min()\n",
      "last_disbursed_date  = df_loans_noInterest_ver2.disbursed_at.max()\n",
      "weeks_instl_disb = pd.date_range(pd.Period(first_disbursed_date,freq='D').to_timestamp(),pd.Period(last_disbursed_date,freq='D').to_timestamp(),freq='W',closed='right')"
     ],
     "language": "python",
     "metadata": {},
     "outputs": [],
     "prompt_number": 69
    },
    {
     "cell_type": "code",
     "collapsed": false,
     "input": [
      "month_instl_disb = pd.date_range(pd.Period(first_disbursed_date,freq='D').to_timestamp(),pd.Period(last_disbursed_date,freq='D').to_timestamp(),freq='M')"
     ],
     "language": "python",
     "metadata": {},
     "outputs": [],
     "prompt_number": 70
    },
    {
     "cell_type": "code",
     "collapsed": false,
     "input": [
      "df_loans_noInterest_ver2['disbursed_week'] = df_loans_noInterest_ver2.disbursed_at.apply(lambda x: weeks_instl_disb[weeks_instl_disb<x][-1] if any(weeks_instl_disb<x) else weeks_instl_disb[0])"
     ],
     "language": "python",
     "metadata": {},
     "outputs": [],
     "prompt_number": 71
    },
    {
     "cell_type": "code",
     "collapsed": false,
     "input": [
      "df_loans_noInterest_ver2['disbursed_month'] = df_loans_noInterest_ver2.disbursed_at.apply(lambda x: month_instl_disb[month_instl_disb<x][-1] if any(month_instl_disb<x) else month_instl_disb[0])"
     ],
     "language": "python",
     "metadata": {},
     "outputs": [],
     "prompt_number": 72
    },
    {
     "cell_type": "code",
     "collapsed": false,
     "input": [
      "df_loans_noInterest_ver2['disbursed_year'] = df_loans_noInterest_ver2.disbursed_at.apply(lambda x: x.year)"
     ],
     "language": "python",
     "metadata": {},
     "outputs": [],
     "prompt_number": 74
    },
    {
     "cell_type": "code",
     "collapsed": false,
     "input": [
      "#df_loans_noInterest_ver2[df_loans_noInterest_ver2.status==2].groupby('disbursed_week').apply(len)\n",
      "#df_loans_noInterest_ver2[df_loans_noInterest_ver2.status==2].groupby('disbursed_month').apply(len)"
     ],
     "language": "python",
     "metadata": {},
     "outputs": [],
     "prompt_number": 76
    },
    {
     "cell_type": "code",
     "collapsed": false,
     "input": [
      "mean_percentPaid_by_week_final  = df_loans_noInterest_ver2[df_loans_noInterest_ver2.status.isin([3,5])].groupby('disbursed_week').percentPaid_after_Inst_2.apply(np.mean)\n",
      "mean_percentPaid_by_week_active = df_loans_noInterest_ver2[df_loans_noInterest_ver2.status==2].groupby('disbursed_week').percentPaid_after_Inst_2.apply(np.mean)\n",
      "std_percentPaid_by_week_final  = df_loans_noInterest_ver2[df_loans_noInterest_ver2.status.isin([3,5])].groupby('disbursed_week').percentPaid_after_Inst_2.apply(np.std)\n",
      "std_percentPaid_by_week_active = df_loans_noInterest_ver2[df_loans_noInterest_ver2.status==2].groupby('disbursed_week').percentPaid_after_Inst_2.apply(np.std)"
     ],
     "language": "python",
     "metadata": {},
     "outputs": [],
     "prompt_number": 77
    },
    {
     "cell_type": "code",
     "collapsed": false,
     "input": [
      "#len(mean_percentPaid_by_week_final)\n",
      "mean_percentPaid_by_week_final = mean_percentPaid_by_week_final[mean_percentPaid_by_week_final.index<pd.to_datetime('2015-05-10')]\n",
      "mean_percentPaid_by_week_active = mean_percentPaid_by_week_active[mean_percentPaid_by_week_active.index<pd.to_datetime('2015-05-10')]\n",
      "\n",
      "std_percentPaid_by_week_final = std_percentPaid_by_week_final[std_percentPaid_by_week_final.index<pd.to_datetime('2015-05-10')]\n",
      "std_percentPaid_by_week_active = std_percentPaid_by_week_active[std_percentPaid_by_week_active.index<pd.to_datetime('2015-05-10')]"
     ],
     "language": "python",
     "metadata": {},
     "outputs": [],
     "prompt_number": 78
    },
    {
     "cell_type": "heading",
     "level": 3,
     "metadata": {},
     "source": [
      "Get Finalized and Active Loans: "
     ]
    },
    {
     "cell_type": "code",
     "collapsed": false,
     "input": [
      "df_loans_noInterest_ver2_final = df_loans_noInterest_ver2[df_loans_noInterest_ver2.status.isin([3,5])]\n",
      "df_loans_noInterest_ver2_final.sort('disbursed_at',inplace=True)\n",
      "\n",
      "df_loans_noInterest_ver2_active = df_loans_noInterest_ver2[df_loans_noInterest_ver2.status==2]\n",
      "df_loans_noInterest_ver2_active.sort('disbursed_at',inplace=True)\n",
      "df_loans_noInterest_ver2_active = df_loans_noInterest_ver2_active[df_loans_noInterest_ver2_active.disbursed_at + datetime.timedelta(days=30) <final_payment_date]"
     ],
     "language": "python",
     "metadata": {},
     "outputs": [],
     "prompt_number": 85
    },
    {
     "cell_type": "heading",
     "level": 3,
     "metadata": {},
     "source": [
      "Plot Repayment Patterns:"
     ]
    },
    {
     "cell_type": "code",
     "collapsed": false,
     "input": [
      "fig_repay = plt.figure(figsize=(10,8))\n",
      "my_ax  = fig_repay.gca()\n",
      "\n",
      "plt.plot(mean_percentPaid_by_week_final.index,mean_percentPaid_by_week_final*100, color='blue', linestyle='dashed', marker='o',\n",
      "         markerfacecolor='blue', markersize=12, linewidth=2.5, label='finalized',axes=my_ax)\n",
      "plt.plot(mean_percentPaid_by_week_active.index,mean_percentPaid_by_week_active*100, color='red', linestyle='dashed', marker='o',\n",
      "        markerfacecolor='red', markersize=12, linewidth=2.5, label='active', axes=my_ax)\n",
      "\n",
      "#plt.errorbar(mean_percentPaid_by_week_active.index, mean_percentPaid_by_week_active*100.0, yerr=std_percentPaid_by_week_active*100.0,\n",
      "#             color='blue', linestyle='dashed', marker='o', markerfacecolor='blue', markersize=12, linewidth=2.5, label='finalized',axes=my_ax)\n",
      "\n",
      "\n",
      "\n",
      "plt.title('Mean (%) Dues Paid After 2nd Due Installment',fontsize=22)\n",
      "plt.ylabel('(%)', fontsize=22)\n",
      "plt.xticks(fontsize=16)\n",
      "plt.yticks(fontsize=20)\n",
      "#plt.legend(['Fully Paid','Defaulted'],fontsize=14,loc=3)\n",
      "plt.legend(fontsize=18,loc=3)\n",
      "plt.xlabel('Time Disbursed', fontsize=18)\n",
      "plt.ylim([0,102])\n",
      "#plt.savefig(open('mean_ercentPaid2_by_disbursed_week.png','wb'),dpi=600,format='png')"
     ],
     "language": "python",
     "metadata": {},
     "outputs": [
      {
       "metadata": {},
       "output_type": "pyout",
       "prompt_number": 80,
       "text": [
        "(0, 102)"
       ]
      }
     ],
     "prompt_number": 80
    },
    {
     "cell_type": "code",
     "collapsed": false,
     "input": [
      "plt.savefig(open('mean_percentPaid2_by_disbursed_week_ver2.png','wb'),dpi=680,format='png')"
     ],
     "language": "python",
     "metadata": {},
     "outputs": [],
     "prompt_number": 1888
    },
    {
     "cell_type": "heading",
     "level": 4,
     "metadata": {},
     "source": [
      "Plot defaults versus category: "
     ]
    },
    {
     "cell_type": "code",
     "collapsed": false,
     "input": [
      "fig_categ = plt.figure(figsize=(6,8))\n",
      "ax_categ = fig_categ.gca()\n",
      "\n",
      "df_loans_noInterest_ver2_final.groupby('category_id').status.value_counts().unstack().plot(kind='bar',stacked=True,ax=ax_categ,colormap='jet')\n",
      "\n",
      "plt.xticks(fontsize=16,rotation='horizontal')\n",
      "plt.yticks(fontsize=14)\n",
      "plt.xlabel('Category',fontsize=16)\n",
      "plt.ylabel('No of Borrowers',fontsize=16)\n",
      "plt.title('Loan Success Versus Category',fontsize=16)\n",
      "plt.legend(['Fully Paid','Defaulted'],fontsize=16,loc=2)\n",
      "#plt.savefig(open('default_rates_by_invited.pdf','wb'),dpi=300,format='pdf')"
     ],
     "language": "python",
     "metadata": {},
     "outputs": [
      {
       "metadata": {},
       "output_type": "pyout",
       "prompt_number": 82,
       "text": [
        "<matplotlib.legend.Legend at 0x13d837690>"
       ]
      }
     ],
     "prompt_number": 82
    },
    {
     "cell_type": "code",
     "collapsed": false,
     "input": [
      "features_0 = ['usd_amount','lender_interest_rate','category_id','extra_days','currency_code','installment_period','period','disbursed_year']\n",
      "features_0.extend(['no_prev_loans','prev_total_borrowed','inviter_type','is_invited','Payment1_onTime','percentPaid_after_Inst_1','percentPaid_after_Inst_2','percentPaid_after_Inst_3'])\n",
      "features_0.extend(['Payment2_onTime','Payment3_onTime','Payment4_onTime'])\n",
      "features_0.extend(['percentPaid_after_Inst_4','percentPaid_after_Inst_5','percentPaid_after_Inst_6','percentPaid_after_Inst_7','percentPaid_after_Inst_8','percentPaid_after_Inst_9','percentPaid_after_Inst_10','percentPaid_after_Inst_11','percentPaid_after_Inst_12'])"
     ],
     "language": "python",
     "metadata": {},
     "outputs": [],
     "prompt_number": 83
    },
    {
     "cell_type": "code",
     "collapsed": false,
     "input": [
      "y = df_loans_noInterest_ver2_final[['status','paid_percentage','disbursed_amount','disbursed_at']]\n",
      "\n",
      "X = df_loans_noInterest_ver2_final[features_0]"
     ],
     "language": "python",
     "metadata": {},
     "outputs": [],
     "prompt_number": 86
    },
    {
     "cell_type": "code",
     "collapsed": false,
     "input": [
      "# Binarize 'no_prev_loans' and 'status'\n",
      "X['first_loan'] = X['no_prev_loans'].apply(lambda x: x==0)\n",
      "y['status'] = y['status'].apply(lambda x: 1 if x==5 else 0) "
     ],
     "language": "python",
     "metadata": {},
     "outputs": [],
     "prompt_number": 87
    },
    {
     "cell_type": "heading",
     "level": 3,
     "metadata": {},
     "source": [
      "Preprocessing of the features:"
     ]
    },
    {
     "cell_type": "code",
     "collapsed": false,
     "input": [
      "# One-hot-encode 'inviter_type'\n",
      "#X.inviter_type.value_counts()\n",
      "\n",
      "le_inviter = LabelEncoder()\n",
      "X.inviter_type = le_inviter.fit_transform(X.inviter_type)\n",
      "\n",
      "inviter_names = ['failed_inviter','no_inviter','success_inviter']\n",
      "\n",
      "enc = OneHotEncoder()\n",
      "#one_hot_inviter = enc.fit(np.array(X.inviter_type))\n",
      "#arr_enc_inviter = one_hot_inviter.transform(X.inviter_type)\n",
      "arr_enc_inviter = enc.fit_transform(np.array(X[['inviter_type']]))\n",
      "\n",
      "df_arr_enc_inviter = pd.DataFrame(arr_enc_inviter.toarray(),columns=inviter_names,index=X.index)\n",
      "\n",
      "X = X.join(df_arr_enc_inviter)\n",
      "\n",
      "X.drop('inviter_type',inplace=True,axis=1)"
     ],
     "language": "python",
     "metadata": {},
     "outputs": [
      {
       "output_type": "stream",
       "stream": "stderr",
       "text": [
        "/Users/ozan/venv/base/lib/python2.7/site-packages/pandas/core/generic.py:2177: SettingWithCopyWarning: \n",
        "A value is trying to be set on a copy of a slice from a DataFrame.\n",
        "Try using .loc[row_indexer,col_indexer] = value instead\n",
        "\n",
        "See the the caveats in the documentation: http://pandas.pydata.org/pandas-docs/stable/indexing.html#indexing-view-versus-copy\n",
        "  self[name] = value\n"
       ]
      }
     ],
     "prompt_number": 88
    },
    {
     "cell_type": "code",
     "collapsed": false,
     "input": [
      "X['first_loan'] = X['first_loan'].apply(lambda x: 1 if x else 0)"
     ],
     "language": "python",
     "metadata": {},
     "outputs": [],
     "prompt_number": 89
    },
    {
     "cell_type": "code",
     "collapsed": false,
     "input": [
      "#X.disbursed_year.value_counts()\n",
      "X['disbursed_year'] = X.disbursed_year.apply(lambda x: 1 if x==2015 else 0)"
     ],
     "language": "python",
     "metadata": {},
     "outputs": [],
     "prompt_number": 90
    },
    {
     "cell_type": "code",
     "collapsed": false,
     "input": [
      "ind_choose_1 = y.loc[y.paid_percentage>=0.0].index\n",
      "y = y.ix[ind_choose_1]\n",
      "X = X.ix[ind_choose_1]"
     ],
     "language": "python",
     "metadata": {},
     "outputs": [],
     "prompt_number": 91
    },
    {
     "cell_type": "code",
     "collapsed": false,
     "input": [
      "ind_choose_2 = X.loc[X.percentPaid_after_Inst_1>=0.0].index\n",
      "X = X.ix[ind_choose_2]\n",
      "y = y.ix[ind_choose_2]"
     ],
     "language": "python",
     "metadata": {},
     "outputs": [],
     "prompt_number": 92
    },
    {
     "cell_type": "code",
     "collapsed": false,
     "input": [
      "if False: \n",
      "    X = X.ix[y.loc[y.disbursed_at < pd.to_datetime('2015-02-01')].index]\n",
      "    y = y.ix[y.loc[y.disbursed_at < pd.to_datetime('2015-02-01')].index]       "
     ],
     "language": "python",
     "metadata": {},
     "outputs": [],
     "prompt_number": 1733
    },
    {
     "cell_type": "heading",
     "level": 3,
     "metadata": {},
     "source": [
      "Check Feature Correlation:"
     ]
    },
    {
     "cell_type": "code",
     "collapsed": false,
     "input": [
      "#X.columns\n",
      "#X[percentPaid_Features].corr()"
     ],
     "language": "python",
     "metadata": {},
     "outputs": [],
     "prompt_number": 93
    },
    {
     "cell_type": "code",
     "collapsed": false,
     "input": [
      "from sklearn import decomposition\n",
      "from sklearn import preprocessing"
     ],
     "language": "python",
     "metadata": {},
     "outputs": [],
     "prompt_number": 94
    },
    {
     "cell_type": "code",
     "collapsed": false,
     "input": [
      "#input to feed to PCA: percentPaid after first N installments\n",
      "X_percentPaid = np.array(X[percentPaid_Features])[:,:6]"
     ],
     "language": "python",
     "metadata": {},
     "outputs": [],
     "prompt_number": 95
    },
    {
     "cell_type": "code",
     "collapsed": false,
     "input": [
      "standardizer_X = preprocessing.StandardScaler()"
     ],
     "language": "python",
     "metadata": {},
     "outputs": [],
     "prompt_number": 96
    },
    {
     "cell_type": "code",
     "collapsed": false,
     "input": [
      "standardizer_X.fit(X_percentPaid)\n",
      "\n",
      "X_percentPaid = standardizer_X.transform(X_percentPaid)"
     ],
     "language": "python",
     "metadata": {},
     "outputs": [],
     "prompt_number": 97
    },
    {
     "cell_type": "code",
     "collapsed": false,
     "input": [
      "pca_percentPaid = decomposition.PCA(n_components=3)\n",
      "\n",
      "pca_percentPaid.fit(X_percentPaid)\n",
      "\n",
      "X_percentPaid_PCA = pca_percentPaid.transform(X_percentPaid)\n",
      "#pca_percentPaid.explained_variance_ratio_"
     ],
     "language": "python",
     "metadata": {},
     "outputs": [],
     "prompt_number": 98
    },
    {
     "cell_type": "code",
     "collapsed": false,
     "input": [
      "df_X_perc_PCA = pd.DataFrame(data=X_percentPaid_PCA,columns=['percentPaid_comp1','percentPaid_comp2','percentPaid_comp3'])\n",
      "X['percentPaid_comp1'] = df_X_perc_PCA['percentPaid_comp1'].values\n",
      "X['percentPaid_comp2'] = df_X_perc_PCA['percentPaid_comp2'].values\n",
      "X['percentPaid_comp3'] = df_X_perc_PCA['percentPaid_comp3'].values\n",
      "\n",
      "#X.drop(percentPaid_Features,axis=1,inplace=True)"
     ],
     "language": "python",
     "metadata": {},
     "outputs": [],
     "prompt_number": 99
    },
    {
     "cell_type": "heading",
     "level": 3,
     "metadata": {},
     "source": [
      "Impute PaymentOnTime Features"
     ]
    },
    {
     "cell_type": "code",
     "collapsed": false,
     "input": [
      "X['Payment1_onTime'].loc[X.Payment1_onTime.isnull()] = X.Payment1_onTime.median()\n",
      "X['Payment2_onTime'].loc[X.Payment2_onTime.isnull()] = X.loc[X.Payment2_onTime.isnull()].Payment1_onTime\n",
      "X['Payment3_onTime'].loc[X.Payment3_onTime.isnull()] = X.loc[X.Payment3_onTime.isnull()].Payment2_onTime\n",
      "X['Payment4_onTime'].loc[X.Payment4_onTime.isnull()] = X.loc[X.Payment4_onTime.isnull()].Payment3_onTime"
     ],
     "language": "python",
     "metadata": {},
     "outputs": [],
     "prompt_number": 100
    },
    {
     "cell_type": "heading",
     "level": 3,
     "metadata": {},
     "source": [
      "Subset input and output for 'default' classification task: "
     ]
    },
    {
     "cell_type": "code",
     "collapsed": false,
     "input": [
      "y_def = y.status\n",
      "X_def = X.drop(percentPaid_Features,axis=1)\n",
      "#X_def = X.drop(['percentPaid_after_Inst_5','percentPaid_after_Inst_6','percentPaid_after_Inst_7','percentPaid_after_Inst_8','percentPaid_after_Inst_9','percentPaid_after_Inst_10','percentPaid_after_Inst_11','percentPaid_after_Inst_12'],axis=1,inplace=False)"
     ],
     "language": "python",
     "metadata": {},
     "outputs": [],
     "prompt_number": 101
    },
    {
     "cell_type": "code",
     "collapsed": false,
     "input": [
      "# Make indices for training and validation sets\n",
      "msk_split = np.random.rand(len(y_def)) < 0.75"
     ],
     "language": "python",
     "metadata": {},
     "outputs": [],
     "prompt_number": 102
    },
    {
     "cell_type": "code",
     "collapsed": false,
     "input": [
      "X_def_train = X_def.iloc[msk_split]\n",
      "y_def_train = y_def.iloc[msk_split]\n",
      "X_def_valid = X_def.iloc[~msk_split]\n",
      "y_def_valid = y_def.iloc[~msk_split]"
     ],
     "language": "python",
     "metadata": {},
     "outputs": [],
     "prompt_number": 103
    },
    {
     "cell_type": "code",
     "collapsed": false,
     "input": [
      "# Drop some additional features\n",
      "features_drop_def = ['prev_total_borrowed','category_id','currency_code','is_invited']\n",
      "features_drop_def.extend(['extra_days','no_prev_loans'])\n",
      "\n",
      "X_def_train.drop(features_drop_def,inplace=True,axis=1)\n",
      "X_def_valid.drop(features_drop_def,inplace=True,axis=1)"
     ],
     "language": "python",
     "metadata": {},
     "outputs": [
      {
       "output_type": "stream",
       "stream": "stderr",
       "text": [
        "-c:5: SettingWithCopyWarning: \n",
        "A value is trying to be set on a copy of a slice from a DataFrame\n",
        "\n",
        "See the the caveats in the documentation: http://pandas.pydata.org/pandas-docs/stable/indexing.html#indexing-view-versus-copy\n"
       ]
      }
     ],
     "prompt_number": 104
    },
    {
     "cell_type": "heading",
     "level": 3,
     "metadata": {},
     "source": [
      "Make a GridSearchCV object that trains Logistic Regression Models:"
     ]
    },
    {
     "cell_type": "code",
     "collapsed": false,
     "input": [
      "C = [1e-2, 1e-1, 1, 1e1]\n",
      "#params = {'penalty':['l1', 'l2'], 'class_weight':[None,'auto'],'C': C}\n",
      "#params = {'penalty':['l1', 'l2'], 'class_weight':['auto'],'C': C}\n",
      "params = {'penalty':['l1', 'l2'],'C': C}\n",
      "#params = {'penalty':['l1', 'l2']}\n",
      "\n",
      "#log_reg_mdl = grid_search.GridSearchCV(LogisticRegression(class_weight='auto'), cv=5, param_grid=params, scoring='roc_auc', n_jobs=-1)\n",
      "log_reg_mdl = grid_search.GridSearchCV(LogisticRegression(class_weight='auto'), cv=5, scoring='f1' ,param_grid=params, n_jobs=-1, verbose=1)"
     ],
     "language": "python",
     "metadata": {},
     "outputs": [],
     "prompt_number": 105
    },
    {
     "cell_type": "heading",
     "level": 3,
     "metadata": {},
     "source": [
      "Make a GridSearchCV object that trains Random Forest Models:"
     ]
    },
    {
     "cell_type": "code",
     "collapsed": false,
     "input": [
      "params_RF_def = {'max_features': [4,7,10],\n",
      "                 'min_samples_leaf': [1,5]}\n",
      "\n",
      "model_RF_def = grid_search.GridSearchCV(RandomForestClassifier(oob_score=True, n_jobs=-1, n_estimators=100,random_state=np.random.RandomState(2)), \n",
      "                          params_RF_def, cv=5,scoring='f1',verbose=1)"
     ],
     "language": "python",
     "metadata": {},
     "outputs": [],
     "prompt_number": 106
    },
    {
     "cell_type": "code",
     "collapsed": false,
     "input": [
      "log_reg_mdl.fit(X_def_train,y_def_train)"
     ],
     "language": "python",
     "metadata": {},
     "outputs": [
      {
       "output_type": "stream",
       "stream": "stdout",
       "text": [
        "Fitting 5 folds for each of 8 candidates, totalling 40 fits\n"
       ]
      },
      {
       "output_type": "stream",
       "stream": "stderr",
       "text": [
        "[Parallel(n_jobs=-1)]: Done   1 jobs       | elapsed:    0.0s\n",
        "[Parallel(n_jobs=-1)]: Done  40 out of  40 | elapsed:    0.3s finished\n"
       ]
      },
      {
       "metadata": {},
       "output_type": "pyout",
       "prompt_number": 107,
       "text": [
        "GridSearchCV(cv=5,\n",
        "       estimator=LogisticRegression(C=1.0, class_weight='auto', dual=False, fit_intercept=True,\n",
        "          intercept_scaling=1, penalty='l2', random_state=None, tol=0.0001),\n",
        "       fit_params={}, iid=True, loss_func=None, n_jobs=-1,\n",
        "       param_grid={'penalty': ['l1', 'l2'], 'C': [0.01, 0.1, 1, 10.0]},\n",
        "       pre_dispatch='2*n_jobs', refit=True, score_func=None, scoring='f1',\n",
        "       verbose=1)"
       ]
      }
     ],
     "prompt_number": 107
    },
    {
     "cell_type": "code",
     "collapsed": false,
     "input": [
      "#np.sum(y_def_train.isnull())\n",
      "model_RF_def.fit(X_def_train,y_def_train)"
     ],
     "language": "python",
     "metadata": {},
     "outputs": [
      {
       "output_type": "stream",
       "stream": "stderr",
       "text": [
        "[Parallel(n_jobs=1)]: Done   1 jobs       | elapsed:    0.3s\n",
        "[Parallel(n_jobs=1)]: Done  30 out of  30 | elapsed:    9.2s finished\n"
       ]
      },
      {
       "output_type": "stream",
       "stream": "stdout",
       "text": [
        "Fitting 5 folds for each of 6 candidates, totalling 30 fits\n"
       ]
      },
      {
       "metadata": {},
       "output_type": "pyout",
       "prompt_number": 108,
       "text": [
        "GridSearchCV(cv=5,\n",
        "       estimator=RandomForestClassifier(bootstrap=True, compute_importances=None,\n",
        "            criterion='gini', max_depth=None, max_features='auto',\n",
        "            max_leaf_nodes=None, min_density=None, min_samples_leaf=1,\n",
        "            min_samples_split=2, n_estimators=100, n_jobs=-1,\n",
        "            oob_score=True,\n",
        "            random_state=<mtrand.RandomState object at 0x13d857250>,\n",
        "            verbose=0),\n",
        "       fit_params={}, iid=True, loss_func=None, n_jobs=1,\n",
        "       param_grid={'max_features': [4, 7, 10], 'min_samples_leaf': [1, 5]},\n",
        "       pre_dispatch='2*n_jobs', refit=True, score_func=None, scoring='f1',\n",
        "       verbose=1)"
       ]
      }
     ],
     "prompt_number": 108
    },
    {
     "cell_type": "code",
     "collapsed": false,
     "input": [
      "y_def_valid_pred_LR = log_reg_mdl.predict(X_def_valid)"
     ],
     "language": "python",
     "metadata": {},
     "outputs": [],
     "prompt_number": 109
    },
    {
     "cell_type": "code",
     "collapsed": false,
     "input": [
      "y_def_valid_pred_RF = model_RF_def.predict(X_def_valid)"
     ],
     "language": "python",
     "metadata": {},
     "outputs": [],
     "prompt_number": 110
    },
    {
     "cell_type": "code",
     "collapsed": false,
     "input": [
      "#confusion_matrix(y_def_valid,y_def_valid_pred_LR)\n",
      "precision_score(y_def_valid,y_def_valid_pred_LR)\n",
      "#recall_score(y_def_valid,y_def_valid_pred_LR)\n",
      "f1_score(y_def_valid,y_def_valid_pred_LR)"
     ],
     "language": "python",
     "metadata": {},
     "outputs": [
      {
       "metadata": {},
       "output_type": "pyout",
       "prompt_number": 111,
       "text": [
        "0.69014084507042239"
       ]
      }
     ],
     "prompt_number": 111
    },
    {
     "cell_type": "code",
     "collapsed": false,
     "input": [
      "#confusion_matrix(y_def_valid,y_def_valid_pred_LR)\n",
      "precision_score(y_def_valid,y_def_valid_pred_RF)\n",
      "#recall_score(y_def_valid,y_def_valid_pred_RF)\n",
      "f1_score(y_def_valid,y_def_valid_pred_RF)"
     ],
     "language": "python",
     "metadata": {},
     "outputs": [
      {
       "metadata": {},
       "output_type": "pyout",
       "prompt_number": 112,
       "text": [
        "0.74285714285714277"
       ]
      }
     ],
     "prompt_number": 112
    },
    {
     "cell_type": "code",
     "collapsed": false,
     "input": [
      "y_def_valid_prob_LR = log_reg_mdl.predict_proba(X_def_valid.astype(float))\n",
      "y_def_valid_prob_RF = model_RF_def.predict_proba(X_def_valid.astype(float))"
     ],
     "language": "python",
     "metadata": {},
     "outputs": [],
     "prompt_number": 113
    },
    {
     "cell_type": "code",
     "collapsed": false,
     "input": [
      "## Investigate importance of features for predicting defaults: \n",
      "f_def_names = X_def_valid.columns.values \n",
      "\n",
      "feature_imp_def = model_RF_def.best_estimator_.feature_importances_\n",
      "df_imp_def = pd.DataFrame({'Feature': pd.Series(f_def_names), 'Importance': pd.Series(feature_imp_def)})\n",
      "df_imp_def.sort('Importance', ascending=0, inplace=True)\n",
      "#df_imp_def"
     ],
     "language": "python",
     "metadata": {},
     "outputs": [],
     "prompt_number": 114
    },
    {
     "cell_type": "heading",
     "level": 3,
     "metadata": {},
     "source": [
      "Now, predict defaults on active loans: "
     ]
    },
    {
     "cell_type": "code",
     "collapsed": false,
     "input": [
      "y_active = df_loans_noInterest_ver2_active[['status','paid_percentage','disbursed_amount','disbursed_at','currency_code']]\n",
      "\n",
      "X_active = df_loans_noInterest_ver2_active[features_0]"
     ],
     "language": "python",
     "metadata": {},
     "outputs": [],
     "prompt_number": 115
    },
    {
     "cell_type": "code",
     "collapsed": false,
     "input": [
      "if False: \n",
      "    X_active = X_active[y_active.disbursed_at > pd.to_datetime('2015-02-01')]\n",
      "    y_active = y_active[y_active.disbursed_at > pd.to_datetime('2015-02-01')]\n",
      "#len(y_active)"
     ],
     "language": "python",
     "metadata": {},
     "outputs": [],
     "prompt_number": 116
    },
    {
     "cell_type": "code",
     "collapsed": false,
     "input": [
      "y_active.groupby('currency_code').apply(len)"
     ],
     "language": "python",
     "metadata": {},
     "outputs": [
      {
       "metadata": {},
       "output_type": "pyout",
       "prompt_number": 117,
       "text": [
        "currency_code\n",
        "GHS     297\n",
        "GNF       9\n",
        "IDR     169\n",
        "KES    2023\n",
        "USD       2\n",
        "XOF     291\n",
        "dtype: int64"
       ]
      }
     ],
     "prompt_number": 117
    },
    {
     "cell_type": "code",
     "collapsed": false,
     "input": [
      "# Binarize 'no_prev_loans' and 'status'\n",
      "X_active['first_loan'] = X_active['no_prev_loans'].apply(lambda x: x==0)\n",
      "y_active['status'] = y_active['status'].apply(lambda x: 1 if x==5 else 0) "
     ],
     "language": "python",
     "metadata": {},
     "outputs": [],
     "prompt_number": 118
    },
    {
     "cell_type": "code",
     "collapsed": false,
     "input": [
      "# Drop some additional features\n",
      "X_active.drop(features_drop_def,inplace=True,axis=1)"
     ],
     "language": "python",
     "metadata": {},
     "outputs": [],
     "prompt_number": 119
    },
    {
     "cell_type": "code",
     "collapsed": false,
     "input": [
      "# One-hot-encode 'inviter_type'\n",
      "X_active.inviter_type[X_active.inviter_type == 'unknown']= 'no_inviter'\n",
      "X_active.inviter_type = le_inviter.transform(X_active.inviter_type)\n",
      "\n",
      "arr_enc_inviter_active = enc.transform(np.array(X_active[['inviter_type']]))\n",
      "df_arr_enc_inviter_active = pd.DataFrame(arr_enc_inviter_active.toarray(),columns=inviter_names,index=X_active.index)\n",
      "\n",
      "X_active = X_active.join(df_arr_enc_inviter_active)\n",
      "X_active.drop('inviter_type',inplace=True,axis=1)"
     ],
     "language": "python",
     "metadata": {},
     "outputs": [
      {
       "output_type": "stream",
       "stream": "stderr",
       "text": [
        "/Users/ozan/venv/base/lib/python2.7/site-packages/pandas/core/generic.py:3636: SettingWithCopyWarning: \n",
        "A value is trying to be set on a copy of a slice from a DataFrame\n",
        "\n",
        "See the the caveats in the documentation: http://pandas.pydata.org/pandas-docs/stable/indexing.html#indexing-view-versus-copy\n",
        "  self._update_inplace(new_data)\n",
        "/Users/ozan/venv/base/lib/python2.7/site-packages/IPython/core/interactiveshell.py:2883: SettingWithCopyWarning: \n",
        "A value is trying to be set on a copy of a slice from a DataFrame\n",
        "\n",
        "See the the caveats in the documentation: http://pandas.pydata.org/pandas-docs/stable/indexing.html#indexing-view-versus-copy\n",
        "  exec(code_obj, self.user_global_ns, self.user_ns)\n"
       ]
      }
     ],
     "prompt_number": 120
    },
    {
     "cell_type": "heading",
     "level": 4,
     "metadata": {},
     "source": [
      "Get Principal Components for Percent Paid:"
     ]
    },
    {
     "cell_type": "code",
     "collapsed": false,
     "input": [
      "#input to feed to PCA: percentPaid after first N installments\n",
      "\n",
      "X_percentPaid_active = np.array(X_active[percentPaid_Features])[:,:6]\n",
      "#percentPaid_Features\n",
      "X_percentPaid_active = standardizer_X.transform(X_percentPaid_active)\n",
      "\n",
      "X_percentPaid_PCA_active = pca_percentPaid.transform(X_percentPaid_active)"
     ],
     "language": "python",
     "metadata": {},
     "outputs": [],
     "prompt_number": 121
    },
    {
     "cell_type": "code",
     "collapsed": false,
     "input": [
      "df_X_perc_PCA_active = pd.DataFrame(data=X_percentPaid_PCA_active,columns=['percentPaid_comp1','percentPaid_comp2','percentPaid_comp3'])\n",
      "X_active['percentPaid_comp1'] = df_X_perc_PCA_active['percentPaid_comp1'].values\n",
      "X_active['percentPaid_comp2'] = df_X_perc_PCA_active['percentPaid_comp2'].values\n",
      "X_active['percentPaid_comp3'] = df_X_perc_PCA_active['percentPaid_comp3'].values"
     ],
     "language": "python",
     "metadata": {},
     "outputs": [],
     "prompt_number": 122
    },
    {
     "cell_type": "code",
     "collapsed": false,
     "input": [
      "X_active['Payment1_onTime'].loc[X_active.Payment1_onTime.isnull()] = X.Payment1_onTime.median()\n",
      "X_active['Payment2_onTime'].loc[X_active.Payment2_onTime.isnull()] = X_active.loc[X_active.Payment2_onTime.isnull()].Payment1_onTime\n",
      "X_active['Payment3_onTime'].loc[X_active.Payment3_onTime.isnull()] = X_active.loc[X_active.Payment3_onTime.isnull()].Payment2_onTime\n",
      "X_active['Payment4_onTime'].loc[X_active.Payment4_onTime.isnull()] = X_active.loc[X_active.Payment4_onTime.isnull()].Payment3_onTime"
     ],
     "language": "python",
     "metadata": {},
     "outputs": [],
     "prompt_number": 123
    },
    {
     "cell_type": "code",
     "collapsed": false,
     "input": [
      "#X_active.disbursed_year.value_counts()\n",
      "X_active['disbursed_year'] = X_active.disbursed_year.apply(lambda x: 1 if x==2015 else 0)"
     ],
     "language": "python",
     "metadata": {},
     "outputs": [],
     "prompt_number": 124
    },
    {
     "cell_type": "code",
     "collapsed": false,
     "input": [
      "#X_active.columns\n",
      "X_active.drop(percentPaid_Features,axis=1,inplace=True)"
     ],
     "language": "python",
     "metadata": {},
     "outputs": [],
     "prompt_number": 125
    },
    {
     "cell_type": "heading",
     "level": 3,
     "metadata": {},
     "source": [
      "Predict New Defaults"
     ]
    },
    {
     "cell_type": "code",
     "collapsed": false,
     "input": [
      "#Predict new defaults:\n",
      "y_def_active_pred_LR = log_reg_mdl.predict(X_active)\n",
      "y_def_active_pred_RF = model_RF_def.predict(X_active)"
     ],
     "language": "python",
     "metadata": {},
     "outputs": [],
     "prompt_number": 126
    },
    {
     "cell_type": "code",
     "collapsed": false,
     "input": [
      "y_def_pred_active = pd.Series(y_def_active_pred_RF,index=X_active.index,name='pred_status')\n",
      "y_def_pred_active = pd.concat([y_def_pred_active, y_active], axis=1)"
     ],
     "language": "python",
     "metadata": {},
     "outputs": [],
     "prompt_number": 131
    },
    {
     "cell_type": "code",
     "collapsed": false,
     "input": [
      "y_def_pred_active.groupby('currency_code').pred_status.value_counts()\n",
      "#y_def_pred_active.head()"
     ],
     "language": "python",
     "metadata": {},
     "outputs": [
      {
       "metadata": {},
       "output_type": "pyout",
       "prompt_number": 132,
       "text": [
        "currency_code   \n",
        "GHS            0     278\n",
        "               1      19\n",
        "GNF            0       8\n",
        "               1       1\n",
        "IDR            0     133\n",
        "               1      36\n",
        "KES            0    1612\n",
        "               1     411\n",
        "USD            1       1\n",
        "               0       1\n",
        "XOF            0     261\n",
        "               1      30\n",
        "dtype: int64"
       ]
      }
     ],
     "prompt_number": 132
    },
    {
     "cell_type": "heading",
     "level": 4,
     "metadata": {},
     "source": [
      "Draw the ROC Curve: "
     ]
    },
    {
     "cell_type": "code",
     "collapsed": false,
     "input": [],
     "language": "python",
     "metadata": {},
     "outputs": [],
     "prompt_number": 1804
    },
    {
     "cell_type": "heading",
     "level": 3,
     "metadata": {},
     "source": [
      "Now, train a model to predict loss on defaults:"
     ]
    },
    {
     "cell_type": "heading",
     "level": 4,
     "metadata": {},
     "source": [
      "A: Predict % loss on both defaulted and repaid loans. "
     ]
    },
    {
     "cell_type": "code",
     "collapsed": false,
     "input": [
      "y_loss = 100.0 - y.paid_percentage\n",
      "#X_loss = X.drop(['percentPaid_after_Inst_4','percentPaid_after_Inst_5','percentPaid_after_Inst_6','percentPaid_after_Inst_7','percentPaid_after_Inst_8','percentPaid_after_Inst_9','percentPaid_after_Inst_10','percentPaid_after_Inst_11','percentPaid_after_Inst_12'],axis=1,inplace=False)\n",
      "#X_loss = X"
     ],
     "language": "python",
     "metadata": {},
     "outputs": [],
     "prompt_number": 133
    },
    {
     "cell_type": "code",
     "collapsed": false,
     "input": [
      "X_loss_train = X_def_train\n",
      "X_loss_valid = X_def_valid\n",
      "y_loss_train = y_loss.ix[X_def_train.index]\n",
      "y_loss_valid = y_loss.ix[X_def_valid.index]\n",
      "\n",
      "if False:\n",
      "    X_loss_train = X_loss.ix[X_def_train.index]\n",
      "    X_loss_valid = X_loss.ix[X_def_valid.index]"
     ],
     "language": "python",
     "metadata": {},
     "outputs": [],
     "prompt_number": 134
    },
    {
     "cell_type": "heading",
     "level": 3,
     "metadata": {},
     "source": [
      "Make a GridSearchCV object that trains RF models to predict percent loss:"
     ]
    },
    {
     "cell_type": "code",
     "collapsed": false,
     "input": [
      "from sklearn.ensemble import RandomForestRegressor\n",
      "from sklearn.metrics import r2_score "
     ],
     "language": "python",
     "metadata": {},
     "outputs": [],
     "prompt_number": 136
    },
    {
     "cell_type": "code",
     "collapsed": false,
     "input": [
      "params_RF_loss = {'max_features': [3,5,7,10],\n",
      "                    'min_samples_leaf': [1,5,10]}\n",
      "\n",
      "model_RF_loss = grid_search.GridSearchCV(RandomForestRegressor(oob_score=True, n_jobs=-1, n_estimators=100,random_state=np.random.RandomState(42)), \n",
      "                          params_RF_loss, cv=5,scoring='r2',verbose=1)"
     ],
     "language": "python",
     "metadata": {},
     "outputs": [],
     "prompt_number": 137
    },
    {
     "cell_type": "code",
     "collapsed": false,
     "input": [
      "model_RF_loss.fit(X_loss_train,y_loss_train)"
     ],
     "language": "python",
     "metadata": {},
     "outputs": [
      {
       "output_type": "stream",
       "stream": "stderr",
       "text": [
        "[Parallel(n_jobs=1)]: Done   1 jobs       | elapsed:    0.3s\n",
        "[Parallel(n_jobs=1)]: Done  50 jobs       | elapsed:   15.8s\n"
       ]
      },
      {
       "output_type": "stream",
       "stream": "stdout",
       "text": [
        "Fitting 5 folds for each of 12 candidates, totalling 60 fits\n"
       ]
      },
      {
       "output_type": "stream",
       "stream": "stderr",
       "text": [
        "[Parallel(n_jobs=1)]: Done  60 out of  60 | elapsed:   18.7s finished\n"
       ]
      },
      {
       "metadata": {},
       "output_type": "pyout",
       "prompt_number": 138,
       "text": [
        "GridSearchCV(cv=5,\n",
        "       estimator=RandomForestRegressor(bootstrap=True, compute_importances=None,\n",
        "           criterion='mse', max_depth=None, max_features='auto',\n",
        "           max_leaf_nodes=None, min_density=None, min_samples_leaf=1,\n",
        "           min_samples_split=2, n_estimators=100, n_jobs=-1,\n",
        "           oob_score=True,\n",
        "           random_state=<mtrand.RandomState object at 0x11702ae90>,\n",
        "           verbose=0),\n",
        "       fit_params={}, iid=True, loss_func=None, n_jobs=1,\n",
        "       param_grid={'max_features': [3, 5, 7, 10], 'min_samples_leaf': [1, 5, 10]},\n",
        "       pre_dispatch='2*n_jobs', refit=True, score_func=None, scoring='r2',\n",
        "       verbose=1)"
       ]
      }
     ],
     "prompt_number": 138
    },
    {
     "cell_type": "code",
     "collapsed": false,
     "input": [
      "y_loss_valid_pred   = model_RF_loss.predict(X_loss_valid)\n",
      "#y_loss_valid_pred_noIntrst = model_RF_loss.predict(X_loss_valid[X_loss_valid.lender_interest_rate==0])"
     ],
     "language": "python",
     "metadata": {},
     "outputs": [],
     "prompt_number": 139
    },
    {
     "cell_type": "code",
     "collapsed": false,
     "input": [
      "#truncate to [0,100]\n",
      "np.max(y_loss_valid_pred)"
     ],
     "language": "python",
     "metadata": {},
     "outputs": [
      {
       "metadata": {},
       "output_type": "pyout",
       "prompt_number": 140,
       "text": [
        "98.416875833660256"
       ]
      }
     ],
     "prompt_number": 140
    },
    {
     "cell_type": "code",
     "collapsed": false,
     "input": [
      "r2_score(y_loss_valid,y_loss_valid_pred)  #0.70"
     ],
     "language": "python",
     "metadata": {},
     "outputs": [
      {
       "metadata": {},
       "output_type": "pyout",
       "prompt_number": 141,
       "text": [
        "0.68418417976714618"
       ]
      }
     ],
     "prompt_number": 141
    },
    {
     "cell_type": "heading",
     "level": 3,
     "metadata": {},
     "source": [
      "Investigate Residuals"
     ]
    },
    {
     "cell_type": "code",
     "collapsed": false,
     "input": [
      "resid_pred_RF = y_loss_valid - y_loss_valid_pred"
     ],
     "language": "python",
     "metadata": {},
     "outputs": [],
     "prompt_number": 143
    },
    {
     "cell_type": "code",
     "collapsed": false,
     "input": [
      "#len(resid_pred_LR) #647\n",
      "#resid_pred_RF = pd.concat([resid_pred_RF, df_loans_noInterest_ver2_final.disbursed_week], axis=1, join_axes=[resid_pred_RF.index])\n",
      "resid_pred_RF = pd.concat([resid_pred_RF, df_loans_noInterest_ver2_final.disbursed_month], axis=1, join_axes=[resid_pred_RF.index])"
     ],
     "language": "python",
     "metadata": {},
     "outputs": [],
     "prompt_number": 144
    },
    {
     "cell_type": "code",
     "collapsed": false,
     "input": [
      "#resid_pred_RF.groupby('disbursed_week').apply(len)\n",
      "#resid_pred_RF.groupby('disbursed_month').apply(len)\n",
      "mean_resid_RF_by_month = resid_pred_RF.groupby('disbursed_month').apply(np.mean)\n",
      "std_resid_RF_by_month  = resid_pred_RF.groupby('disbursed_month').apply(np.std)"
     ],
     "language": "python",
     "metadata": {},
     "outputs": [],
     "prompt_number": 145
    },
    {
     "cell_type": "heading",
     "level": 3,
     "metadata": {},
     "source": [
      "Plot Residuals Across Disbursed Month"
     ]
    },
    {
     "cell_type": "code",
     "collapsed": false,
     "input": [
      "fig_resid_RF = plt.figure(figsize=(6,8))\n",
      "ax_resid_RF = fig_resid_RF.gca()\n",
      "\n",
      "plt.errorbar(mean_resid_RF_by_month.index, mean_resid_RF_by_month.values, yerr=std_resid_RF_by_month.values)\n",
      "\n",
      "#plt.plot(mean_percentPaid_by_week_final.index,mean_percentPaid_by_week_final*100, color='blue', linestyle='dashed', marker='o',\n",
      "#         markerfacecolor='blue', markersize=12, linewidth=2.5, label='finalized',axes=my_ax)\n",
      "\n",
      "#plt.xticks(fontsize=16,rotation='horizontal')\n",
      "#plt.yticks(fontsize=14)\n",
      "#plt.xlabel('Category',fontsize=16)\n",
      "#plt.ylabel('No of Borrowers',fontsize=16)\n",
      "#plt.title('Loan Success Versus Category',fontsize=16)\n",
      "#plt.legend(['Fully Paid','Defaulted'],fontsize=16,loc=2)"
     ],
     "language": "python",
     "metadata": {},
     "outputs": [
      {
       "metadata": {},
       "output_type": "pyout",
       "prompt_number": 146,
       "text": [
        "<Container object of 3 artists>"
       ]
      }
     ],
     "prompt_number": 146
    },
    {
     "cell_type": "heading",
     "level": 3,
     "metadata": {},
     "source": [
      "Plot Residuals Across Loan Amount"
     ]
    },
    {
     "cell_type": "code",
     "collapsed": false,
     "input": [
      "resid_pred_RF = pd.concat([resid_pred_RF, X_loss_valid.usd_amount], axis=1, join_axes=[resid_pred_RF.index])\n",
      "resid_pred_RF = pd.concat([resid_pred_RF, df_loans_noInterest_ver2.status], axis=1, join_axes=[resid_pred_RF.index])"
     ],
     "language": "python",
     "metadata": {},
     "outputs": [],
     "prompt_number": 147
    },
    {
     "cell_type": "code",
     "collapsed": false,
     "input": [
      "y_loss_total_valid = (y_loss_valid.values / 100.0) * X_loss_valid.usd_amount\n",
      "y_loss_total_valid_pred = (y_loss_valid_pred / 100.0) * X_loss_valid.usd_amount\n",
      "\n",
      "y_loss_total_valid.mean()\n",
      "y_loss_total_valid_pred.mean()\n",
      "#X_loss_valid.usd_amount.mean()\n",
      "(y_loss_total_valid.mean() - y_loss_total_valid_pred.mean()) / y_loss_total_valid.mean()"
     ],
     "language": "python",
     "metadata": {},
     "outputs": [
      {
       "metadata": {},
       "output_type": "pyout",
       "prompt_number": 148,
       "text": [
        "0.00070372005606515449"
       ]
      }
     ],
     "prompt_number": 148
    },
    {
     "cell_type": "code",
     "collapsed": false,
     "input": [
      "np.sum(resid_pred_RF.usd_amount<300) / float(len(resid_pred_RF))"
     ],
     "language": "python",
     "metadata": {},
     "outputs": [
      {
       "metadata": {},
       "output_type": "pyout",
       "prompt_number": 1990,
       "text": [
        "0.88717156105100459"
       ]
      }
     ],
     "prompt_number": 1990
    },
    {
     "cell_type": "code",
     "collapsed": false,
     "input": [
      "?plt.scatter"
     ],
     "language": "python",
     "metadata": {},
     "outputs": [],
     "prompt_number": 2003
    },
    {
     "cell_type": "heading",
     "level": 3,
     "metadata": {},
     "source": [
      "Plot Residuals (Loss %) by Loan Outcome: "
     ]
    },
    {
     "cell_type": "code",
     "collapsed": false,
     "input": [
      "fig_resid_USD = plt.figure(figsize=(6,8))\n",
      "ax_resid_USD = fig_resid_RF.gca()\n",
      "\n",
      "#plt.scatter(resid_pred_RF.usd_amount,resid_pred_RF.paid_percentage,s=60,alpha=0.7,\n",
      "#            c=resid_pred_RF.status,cmap='cool',edgecolor='black', linewidth='2.5')\n",
      "\n",
      "p_def = plt.scatter(resid_pred_RF[resid_pred_RF.status==5].usd_amount,resid_pred_RF[resid_pred_RF.status==5].paid_percentage,\n",
      "                    s=60,alpha=0.6,c='red',edgecolor='black', linewidth='2.2')\n",
      "p_paid = plt.scatter(resid_pred_RF[resid_pred_RF.status==3].usd_amount,resid_pred_RF[resid_pred_RF.status==3].paid_percentage,\n",
      "                    s=60,alpha=0.6,c='blue',edgecolor='black', linewidth='2.2')\n",
      "\n",
      "plt.xlim([40,260])\n",
      "plt.ylim([-50,82])\n",
      "plt.xticks(fontsize=16,rotation='horizontal')\n",
      "plt.yticks(fontsize=15)\n",
      "plt.xlabel('Loan Amount (USD)',fontsize=16)\n",
      "plt.ylabel('Residual of Loss Percentage',fontsize=17)\n",
      "plt.legend(['Defaulted','Fully Paid',],loc=1,fontsize=16)\n",
      "plt.title('Residuals versus Loan Amount',fontsize=18)"
     ],
     "language": "python",
     "metadata": {},
     "outputs": [
      {
       "metadata": {},
       "output_type": "pyout",
       "prompt_number": 149,
       "text": [
        "<matplotlib.text.Text at 0x12d31d850>"
       ]
      }
     ],
     "prompt_number": 149
    },
    {
     "cell_type": "code",
     "collapsed": false,
     "input": [
      "plt.savefig(open('Residuals_versus_LoanAmount.png','wb'),dpi=680,format='png')"
     ],
     "language": "python",
     "metadata": {},
     "outputs": [],
     "prompt_number": 2087
    },
    {
     "cell_type": "heading",
     "level": 3,
     "metadata": {},
     "source": [
      "Plot Distribtion of Actual Loss vs Predicted Loss"
     ]
    },
    {
     "cell_type": "code",
     "collapsed": false,
     "input": [
      "fig_pred_loss = plt.figure(figsize=(6,8))\n",
      "ax_pred_loss  = fig_pred_loss.gca()\n",
      "\n",
      "sns.kdeplot(y_loss_valid_pred, shade=True, color='red',ax=ax_pred_loss)\n",
      "sns.kdeplot(y_loss_valid, shade=True, color='blue',ax=ax_pred_loss, kernel='cos')\n",
      "\n",
      "plt.xticks(fontsize=16,rotation='horizontal')\n",
      "plt.yticks(fontsize=14)\n",
      "plt.xlabel('Loss (%)',fontsize=16)\n",
      "#plt.xlim([-1.0,df_loans_KES_final.lender_interest_rate.max()+1.0])\n",
      "#plt.ylim([-1000.0,df_loans_KES_final.disbursed_amount.max()+1000])\n",
      "plt.title('Density Distribution of Predicted Losses (%)',fontsize=16)\n",
      "plt.legend(fontsize=16,loc=1)"
     ],
     "language": "python",
     "metadata": {},
     "outputs": [
      {
       "metadata": {},
       "output_type": "pyout",
       "prompt_number": 150,
       "text": [
        "<matplotlib.legend.Legend at 0x12d30fd10>"
       ]
      }
     ],
     "prompt_number": 150
    },
    {
     "cell_type": "code",
     "collapsed": false,
     "input": [
      "## Investigate importance of features for predicting percent loss: \n",
      "f_loss_names = X_loss_valid.columns.values \n",
      "\n",
      "feature_imp_loss = model_RF_loss.best_estimator_.feature_importances_\n",
      "df_imp_loss = pd.DataFrame({'Feature': pd.Series(f_loss_names), 'Importance': pd.Series(feature_imp_loss)})\n",
      "df_imp_loss.sort('Importance', ascending=0, inplace=True)\n",
      "df_imp_loss"
     ],
     "language": "python",
     "metadata": {},
     "outputs": [
      {
       "html": [
        "<div style=\"max-width:1500px;overflow:auto;\">\n",
        "<table border=\"1\" class=\"dataframe\">\n",
        "  <thead>\n",
        "    <tr style=\"text-align: right;\">\n",
        "      <th></th>\n",
        "      <th>Feature</th>\n",
        "      <th>Importance</th>\n",
        "    </tr>\n",
        "  </thead>\n",
        "  <tbody>\n",
        "    <tr>\n",
        "      <th>3</th>\n",
        "      <td>period</td>\n",
        "      <td>0.265395</td>\n",
        "    </tr>\n",
        "    <tr>\n",
        "      <th>8</th>\n",
        "      <td>Payment4_onTime</td>\n",
        "      <td>0.196124</td>\n",
        "    </tr>\n",
        "    <tr>\n",
        "      <th>13</th>\n",
        "      <td>percentPaid_comp1</td>\n",
        "      <td>0.168357</td>\n",
        "    </tr>\n",
        "    <tr>\n",
        "      <th>7</th>\n",
        "      <td>Payment3_onTime</td>\n",
        "      <td>0.075864</td>\n",
        "    </tr>\n",
        "    <tr>\n",
        "      <th>14</th>\n",
        "      <td>percentPaid_comp2</td>\n",
        "      <td>0.067777</td>\n",
        "    </tr>\n",
        "    <tr>\n",
        "      <th>15</th>\n",
        "      <td>percentPaid_comp3</td>\n",
        "      <td>0.067259</td>\n",
        "    </tr>\n",
        "    <tr>\n",
        "      <th>10</th>\n",
        "      <td>failed_inviter</td>\n",
        "      <td>0.042293</td>\n",
        "    </tr>\n",
        "    <tr>\n",
        "      <th>1</th>\n",
        "      <td>lender_interest_rate</td>\n",
        "      <td>0.040607</td>\n",
        "    </tr>\n",
        "    <tr>\n",
        "      <th>0</th>\n",
        "      <td>usd_amount</td>\n",
        "      <td>0.027188</td>\n",
        "    </tr>\n",
        "    <tr>\n",
        "      <th>12</th>\n",
        "      <td>success_inviter</td>\n",
        "      <td>0.016638</td>\n",
        "    </tr>\n",
        "    <tr>\n",
        "      <th>6</th>\n",
        "      <td>Payment2_onTime</td>\n",
        "      <td>0.014176</td>\n",
        "    </tr>\n",
        "    <tr>\n",
        "      <th>11</th>\n",
        "      <td>no_inviter</td>\n",
        "      <td>0.007208</td>\n",
        "    </tr>\n",
        "    <tr>\n",
        "      <th>4</th>\n",
        "      <td>disbursed_year</td>\n",
        "      <td>0.004131</td>\n",
        "    </tr>\n",
        "    <tr>\n",
        "      <th>5</th>\n",
        "      <td>Payment1_onTime</td>\n",
        "      <td>0.003581</td>\n",
        "    </tr>\n",
        "    <tr>\n",
        "      <th>2</th>\n",
        "      <td>installment_period</td>\n",
        "      <td>0.002326</td>\n",
        "    </tr>\n",
        "    <tr>\n",
        "      <th>9</th>\n",
        "      <td>first_loan</td>\n",
        "      <td>0.001075</td>\n",
        "    </tr>\n",
        "  </tbody>\n",
        "</table>\n",
        "</div>"
       ],
       "metadata": {},
       "output_type": "pyout",
       "prompt_number": 151,
       "text": [
        "                 Feature  Importance\n",
        "3                 period    0.265395\n",
        "8        Payment4_onTime    0.196124\n",
        "13     percentPaid_comp1    0.168357\n",
        "7        Payment3_onTime    0.075864\n",
        "14     percentPaid_comp2    0.067777\n",
        "15     percentPaid_comp3    0.067259\n",
        "10        failed_inviter    0.042293\n",
        "1   lender_interest_rate    0.040607\n",
        "0             usd_amount    0.027188\n",
        "12       success_inviter    0.016638\n",
        "6        Payment2_onTime    0.014176\n",
        "11            no_inviter    0.007208\n",
        "4         disbursed_year    0.004131\n",
        "5        Payment1_onTime    0.003581\n",
        "2     installment_period    0.002326\n",
        "9             first_loan    0.001075"
       ]
      }
     ],
     "prompt_number": 151
    },
    {
     "cell_type": "heading",
     "level": 3,
     "metadata": {},
     "source": [
      "Plot Feature Importance: "
     ]
    },
    {
     "cell_type": "code",
     "collapsed": false,
     "input": [
      "#df_imp_loss.head(9)\n",
      "loss_imp_plot = df_imp_loss.head(10)\n",
      "#loss_imp_plot['Feature'] = ['%Paid_After_4th_Installment','Total Installments','%Paid_After_3rd_Installment',\n",
      "#                            '%Paid_After_2nd_Installment','4th_Payment_OnTime','3rd_Payment_OnTime',\n",
      "#                            '%Paid_After_1st_Installment','Is_Failed_Inviter','Loan Amount (USD)']\n",
      "\n",
      "loss_imp_plot['Feature'] = ['No Installments','Payment_PrinComp1','4th_Payment_OnTime',\n",
      "                            'Interest Rate','Payment_PrinComp3','Payment_PrinComp2','Loan Amount(USD)',\n",
      "                            '3rd_Payment_OnTime','2nd_Payment_OnTime','Is_Failed_Inviter']\n",
      "\n",
      "loss_imp_plot.sort('Importance',ascending=True,inplace=True)\n",
      "\n",
      "fig_imp = plt.figure(figsize=(8,6))\n",
      "ax_imp  = fig_imp.gca()\n",
      "\n",
      "ind = np.arange(len(loss_imp_plot)) \n",
      "\n",
      "#ax_imp.barh(ind,loss_imp_plot.Importance, height=0.6,color='b')\n",
      "loss_imp_plot.plot(x='Feature', y='Importance' ,kind='barh', color='blue',ax=ax_imp,fontsize=14)\n",
      "\n",
      "feature_labels = ('No Installments','Payment_PrinComp1','4th_Payment_OnTime',\n",
      "                            'Interest Rate','Payment_PrinComp3','Payment_PrinComp2','Loan Amount(USD)',\n",
      "                            '3rd_Payment_OnTime','2nd_Payment_OnTime','Is_Failed_Inviter')\n",
      "\n",
      "\n",
      "#ax_imp.set_yticklabels(feature_labels,fontsize=14)\n",
      "\n",
      "plt.gcf().subplots_adjust(left=0.3)\n",
      "plt.xlim([0,0.27])\n",
      "plt.title('Feature Importance in Loss Prediction',fontsize=20)\n",
      "#plt.xlabel('Importance',fontsize=14)\n",
      "plt.legend(fontsize=16,loc=4)\n",
      "plt.xticks(fontsize=14)\n",
      "#plt.tight_layout() \n",
      "plt.savefig(open('Feature_Importance_Loss.png','wb'),dpi=800,format='png')"
     ],
     "language": "python",
     "metadata": {},
     "outputs": [
      {
       "output_type": "stream",
       "stream": "stderr",
       "text": [
        "-c:9: SettingWithCopyWarning: \n",
        "A value is trying to be set on a copy of a slice from a DataFrame.\n",
        "Try using .loc[row_indexer,col_indexer] = value instead\n",
        "\n",
        "See the the caveats in the documentation: http://pandas.pydata.org/pandas-docs/stable/indexing.html#indexing-view-versus-copy\n"
       ]
      }
     ],
     "prompt_number": 152
    },
    {
     "cell_type": "heading",
     "level": 3,
     "metadata": {},
     "source": [
      "Now, predict % loss on active loans: "
     ]
    },
    {
     "cell_type": "code",
     "collapsed": false,
     "input": [
      "X_loss_active = X_active"
     ],
     "language": "python",
     "metadata": {},
     "outputs": [],
     "prompt_number": 153
    },
    {
     "cell_type": "code",
     "collapsed": false,
     "input": [
      "if False:\n",
      "    # Cut active losses before launch of new model:\n",
      "    X_loss_active = X_loss_active.ix[y_active.disbursed_at >= pd.to_datetime('2015-02-09')]"
     ],
     "language": "python",
     "metadata": {},
     "outputs": [],
     "prompt_number": 154
    },
    {
     "cell_type": "code",
     "collapsed": false,
     "input": [
      "y_loss_pred_active = model_RF_loss.predict(X_loss_active)"
     ],
     "language": "python",
     "metadata": {},
     "outputs": [],
     "prompt_number": 155
    },
    {
     "cell_type": "code",
     "collapsed": false,
     "input": [
      "y_loss_pred_active = pd.Series(y_loss_pred_active,index=X_active.index,name='pred_loss_percent')"
     ],
     "language": "python",
     "metadata": {},
     "outputs": [],
     "prompt_number": 156
    },
    {
     "cell_type": "code",
     "collapsed": false,
     "input": [
      "y_def_pred_active = pd.concat([y_def_pred_active, y_loss_pred_active], axis=1)"
     ],
     "language": "python",
     "metadata": {},
     "outputs": [],
     "prompt_number": 157
    },
    {
     "cell_type": "code",
     "collapsed": false,
     "input": [
      "y_def_pred_active = pd.concat([y_def_pred_active, X_active['first_loan']], axis=1)"
     ],
     "language": "python",
     "metadata": {},
     "outputs": [],
     "prompt_number": 158
    },
    {
     "cell_type": "code",
     "collapsed": false,
     "input": [
      "y_def_pred_active['pred_loss_amount'] = y_def_pred_active.disbursed_amount * y_def_pred_active.pred_loss_percent\n",
      "y_def_pred_active['pred_loss_amount'] = y_def_pred_active['pred_loss_amount'] / float(100)"
     ],
     "language": "python",
     "metadata": {},
     "outputs": [],
     "prompt_number": 159
    },
    {
     "cell_type": "code",
     "collapsed": false,
     "input": [
      "pred_total_loss = y_def_pred_active.groupby('currency_code').apply(lambda x: x.pred_loss_amount.sum())"
     ],
     "language": "python",
     "metadata": {},
     "outputs": [],
     "prompt_number": 160
    },
    {
     "cell_type": "code",
     "collapsed": false,
     "input": [
      "no_active_loans = y_def_pred_active.groupby('currency_code').apply(len)"
     ],
     "language": "python",
     "metadata": {},
     "outputs": [],
     "prompt_number": 161
    },
    {
     "cell_type": "code",
     "collapsed": false,
     "input": [
      "pred_defaults = y_def_pred_active.groupby('currency_code').apply(lambda x: np.sum(x.pred_status==1))"
     ],
     "language": "python",
     "metadata": {},
     "outputs": [],
     "prompt_number": 162
    },
    {
     "cell_type": "code",
     "collapsed": false,
     "input": [
      "no_first_loans = y_def_pred_active.groupby('currency_code').apply(lambda x: np.sum(x.first_loan))\n"
     ],
     "language": "python",
     "metadata": {},
     "outputs": [],
     "prompt_number": 163
    },
    {
     "cell_type": "code",
     "collapsed": false,
     "input": [
      "df_results = no_active_loans\n",
      "df_results = pd.concat([df_results, pred_defaults, pred_total_loss, no_first_loans], axis=1)"
     ],
     "language": "python",
     "metadata": {},
     "outputs": [],
     "prompt_number": 165
    },
    {
     "cell_type": "code",
     "collapsed": false,
     "input": [
      "df_results"
     ],
     "language": "python",
     "metadata": {},
     "outputs": [
      {
       "html": [
        "<div style=\"max-width:1500px;overflow:auto;\">\n",
        "<table border=\"1\" class=\"dataframe\">\n",
        "  <thead>\n",
        "    <tr style=\"text-align: right;\">\n",
        "      <th></th>\n",
        "      <th>0</th>\n",
        "      <th>1</th>\n",
        "      <th>2</th>\n",
        "      <th>3</th>\n",
        "    </tr>\n",
        "    <tr>\n",
        "      <th>currency_code</th>\n",
        "      <th></th>\n",
        "      <th></th>\n",
        "      <th></th>\n",
        "      <th></th>\n",
        "    </tr>\n",
        "  </thead>\n",
        "  <tbody>\n",
        "    <tr>\n",
        "      <th>GHS</th>\n",
        "      <td>297</td>\n",
        "      <td>19</td>\n",
        "      <td>40381.264531</td>\n",
        "      <td>206</td>\n",
        "    </tr>\n",
        "    <tr>\n",
        "      <th>GNF</th>\n",
        "      <td>9</td>\n",
        "      <td>1</td>\n",
        "      <td>3773139.918990</td>\n",
        "      <td>7</td>\n",
        "    </tr>\n",
        "    <tr>\n",
        "      <th>IDR</th>\n",
        "      <td>169</td>\n",
        "      <td>36</td>\n",
        "      <td>56160040.869704</td>\n",
        "      <td>155</td>\n",
        "    </tr>\n",
        "    <tr>\n",
        "      <th>KES</th>\n",
        "      <td>2023</td>\n",
        "      <td>411</td>\n",
        "      <td>10972766.846386</td>\n",
        "      <td>1599</td>\n",
        "    </tr>\n",
        "    <tr>\n",
        "      <th>USD</th>\n",
        "      <td>2</td>\n",
        "      <td>1</td>\n",
        "      <td>39.195985</td>\n",
        "      <td>2</td>\n",
        "    </tr>\n",
        "    <tr>\n",
        "      <th>XOF</th>\n",
        "      <td>291</td>\n",
        "      <td>30</td>\n",
        "      <td>6613755.033179</td>\n",
        "      <td>237</td>\n",
        "    </tr>\n",
        "  </tbody>\n",
        "</table>\n",
        "</div>"
       ],
       "metadata": {},
       "output_type": "pyout",
       "prompt_number": 166,
       "text": [
        "                  0    1                2     3\n",
        "currency_code                                  \n",
        "GHS             297   19     40381.264531   206\n",
        "GNF               9    1   3773139.918990     7\n",
        "IDR             169   36  56160040.869704   155\n",
        "KES            2023  411  10972766.846386  1599\n",
        "USD               2    1        39.195985     2\n",
        "XOF             291   30   6613755.033179   237"
       ]
      }
     ],
     "prompt_number": 166
    },
    {
     "cell_type": "code",
     "collapsed": false,
     "input": [
      "with con:\n",
      "    df_exchange_rates = pd.read_sql('select * from exchange_rates;', con=con)"
     ],
     "language": "python",
     "metadata": {},
     "outputs": [],
     "prompt_number": 169
    },
    {
     "cell_type": "code",
     "collapsed": false,
     "input": [
      "rates_per_country = df_exchange_rates.groupby('currency_code').apply(lambda x: x.sort('end_date',ascending=False).iloc[0].rate)"
     ],
     "language": "python",
     "metadata": {},
     "outputs": [],
     "prompt_number": 170
    },
    {
     "cell_type": "code",
     "collapsed": false,
     "input": [
      "df_results = pd.concat([df_results,rates_per_country],join='inner',axis=1)"
     ],
     "language": "python",
     "metadata": {},
     "outputs": [],
     "prompt_number": 171
    },
    {
     "cell_type": "code",
     "collapsed": false,
     "input": [
      "#df_results['Country'] = ['Ghana','Indonesia','Kenya']\n",
      "df_results['Country'] = ['Ghana','Guinea','Indonesia','Kenya','Palau','Senegal']"
     ],
     "language": "python",
     "metadata": {},
     "outputs": [],
     "prompt_number": 172
    },
    {
     "cell_type": "code",
     "collapsed": false,
     "input": [
      "df_results.columns = ['No_Active_Loans','Predicted_Defaults','Predicted_Loss_Local','No_First_Loans','Ex_Rate','Country']"
     ],
     "language": "python",
     "metadata": {},
     "outputs": [],
     "prompt_number": 173
    },
    {
     "cell_type": "code",
     "collapsed": false,
     "input": [
      "df_results['Predicted_Loss_USD'] = df_results.Predicted_Loss_Local / df_results.Ex_Rate "
     ],
     "language": "python",
     "metadata": {},
     "outputs": [],
     "prompt_number": 174
    },
    {
     "cell_type": "code",
     "collapsed": false,
     "input": [
      "df_results = df_results[~(df_results.index.isin(['USD','GNF']))]"
     ],
     "language": "python",
     "metadata": {},
     "outputs": [],
     "prompt_number": 175
    },
    {
     "cell_type": "heading",
     "level": 3,
     "metadata": {},
     "source": [
      "Write Predicted Results to CSV:"
     ]
    },
    {
     "cell_type": "heading",
     "level": 4,
     "metadata": {},
     "source": [
      "(CSV to be utilized for online proposal of the Loan Loss Reserve Fee on AWS)"
     ]
    },
    {
     "cell_type": "code",
     "collapsed": false,
     "input": [
      "df_results.to_csv('df_predicted_results.csv')"
     ],
     "language": "python",
     "metadata": {},
     "outputs": [],
     "prompt_number": 1861
    },
    {
     "cell_type": "code",
     "collapsed": false,
     "input": [
      "df_results"
     ],
     "language": "python",
     "metadata": {},
     "outputs": [
      {
       "html": [
        "<div style=\"max-width:1500px;overflow:auto;\">\n",
        "<table border=\"1\" class=\"dataframe\">\n",
        "  <thead>\n",
        "    <tr style=\"text-align: right;\">\n",
        "      <th></th>\n",
        "      <th>No_Active_Loans</th>\n",
        "      <th>Predicted_Defaults</th>\n",
        "      <th>Predicted_Loss_Local</th>\n",
        "      <th>No_First_Loans</th>\n",
        "      <th>Ex_Rate</th>\n",
        "      <th>Country</th>\n",
        "      <th>Predicted_Loss_USD</th>\n",
        "    </tr>\n",
        "    <tr>\n",
        "      <th>currency_code</th>\n",
        "      <th></th>\n",
        "      <th></th>\n",
        "      <th></th>\n",
        "      <th></th>\n",
        "      <th></th>\n",
        "      <th></th>\n",
        "      <th></th>\n",
        "    </tr>\n",
        "  </thead>\n",
        "  <tbody>\n",
        "    <tr>\n",
        "      <th>GHS</th>\n",
        "      <td>297</td>\n",
        "      <td>15</td>\n",
        "      <td>24586.959928</td>\n",
        "      <td>206</td>\n",
        "      <td>3.76192</td>\n",
        "      <td>Ghana</td>\n",
        "      <td>6535.747684</td>\n",
        "    </tr>\n",
        "    <tr>\n",
        "      <th>IDR</th>\n",
        "      <td>169</td>\n",
        "      <td>32</td>\n",
        "      <td>37997518.935770</td>\n",
        "      <td>155</td>\n",
        "      <td>12936.60000</td>\n",
        "      <td>Indonesia</td>\n",
        "      <td>2937.210622</td>\n",
        "    </tr>\n",
        "    <tr>\n",
        "      <th>KES</th>\n",
        "      <td>2023</td>\n",
        "      <td>304</td>\n",
        "      <td>7857208.074101</td>\n",
        "      <td>1599</td>\n",
        "      <td>90.11100</td>\n",
        "      <td>Kenya</td>\n",
        "      <td>87194.771716</td>\n",
        "    </tr>\n",
        "    <tr>\n",
        "      <th>XOF</th>\n",
        "      <td>291</td>\n",
        "      <td>23</td>\n",
        "      <td>6557593.257955</td>\n",
        "      <td>237</td>\n",
        "      <td>607.72400</td>\n",
        "      <td>Senegal</td>\n",
        "      <td>10790.413507</td>\n",
        "    </tr>\n",
        "  </tbody>\n",
        "</table>\n",
        "</div>"
       ],
       "metadata": {},
       "output_type": "pyout",
       "prompt_number": 1860,
       "text": [
        "               No_Active_Loans  Predicted_Defaults  Predicted_Loss_Local  \\\n",
        "currency_code                                                              \n",
        "GHS                        297                  15          24586.959928   \n",
        "IDR                        169                  32       37997518.935770   \n",
        "KES                       2023                 304        7857208.074101   \n",
        "XOF                        291                  23        6557593.257955   \n",
        "\n",
        "               No_First_Loans      Ex_Rate    Country  Predicted_Loss_USD  \n",
        "currency_code                                                              \n",
        "GHS                       206      3.76192      Ghana         6535.747684  \n",
        "IDR                       155  12936.60000  Indonesia         2937.210622  \n",
        "KES                      1599     90.11100      Kenya        87194.771716  \n",
        "XOF                       237    607.72400    Senegal        10790.413507  "
       ]
      }
     ],
     "prompt_number": 1860
    },
    {
     "cell_type": "code",
     "collapsed": false,
     "input": [
      "df_results['Proposed_LLR_Fee_Local'] = df_results.Predicted_Loss_Local / df_results.No_First_Loans "
     ],
     "language": "python",
     "metadata": {},
     "outputs": [],
     "prompt_number": 176
    },
    {
     "cell_type": "code",
     "collapsed": false,
     "input": [
      "df_results['Proposed_LLR_Fee_USD'] = df_results.Proposed_LLR_Fee_Local / df_results.Ex_Rate"
     ],
     "language": "python",
     "metadata": {},
     "outputs": [],
     "prompt_number": 177
    },
    {
     "cell_type": "code",
     "collapsed": false,
     "input": [
      "#Take-Away Calculation: \n",
      "((69.35/50.0) * 206 + (145145.0/100000.0) * 155 + (1913.0/3000.0)*1600 + (21700.0/6000.0)*237 ) / (206+155+1600+237)\n"
     ],
     "language": "python",
     "metadata": {},
     "outputs": [
      {
       "metadata": {},
       "output_type": "pyout",
       "prompt_number": 178,
       "text": [
        "1.0864938201395207"
       ]
      }
     ],
     "prompt_number": 178
    },
    {
     "cell_type": "code",
     "collapsed": false,
     "input": [
      "df_results.Predicted_Defaults.sum() / float(df_results.No_Active_Loans.sum())   # 13.5% defaults predicted\n",
      "\n",
      "np.sum(df_loans_noInterest_ver2_final.status == 5)  / float(len(df_loans_noInterest_ver2_final))\n",
      "len(df_loans[df_loans.status==5]) / float(len(df_loans[df_loans.status.isin([3,5])]))"
     ],
     "language": "python",
     "metadata": {},
     "outputs": [
      {
       "metadata": {},
       "output_type": "pyout",
       "prompt_number": 1871,
       "text": [
        "0.18783068783068782"
       ]
      }
     ],
     "prompt_number": 1871
    },
    {
     "cell_type": "code",
     "collapsed": false,
     "input": [
      "USD_amount_valid = df_loans_noInterest_ver2_final.ix[y_loss_valid.index].raised_usd_amount\n",
      "y_loss_USD_valid = np.multiply(y_loss_valid,USD_amount_valid) / 100\n",
      "y_loss_USD_valid_pred = np.multiply(y_loss_valid_pred,USD_amount_valid) / 100\n",
      "y_loss_USD_valid_pred_2 = np.multiply(y_loss_valid_pred_2,USD_amount_valid) / 100\n",
      "y_loss_USD_valid_pred_noIntrst = np.multiply(y_loss_valid_pred_noIntrst,USD_amount_valid[X_loss_valid.lender_interest_rate == 0]) / 100"
     ],
     "language": "python",
     "metadata": {},
     "outputs": [],
     "prompt_number": 191
    }
   ],
   "metadata": {}
  }
 ]
}